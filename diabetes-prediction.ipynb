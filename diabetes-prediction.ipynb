{
 "cells": [
  {
   "cell_type": "code",
   "execution_count": 1,
   "id": "8f793689",
   "metadata": {
    "_cell_guid": "b1076dfc-b9ad-4769-8c92-a6c4dae69d19",
    "_uuid": "8f2839f25d086af736a60e9eeb907d3b93b6e0e5",
    "execution": {
     "iopub.execute_input": "2024-02-15T07:26:16.787385Z",
     "iopub.status.busy": "2024-02-15T07:26:16.786533Z",
     "iopub.status.idle": "2024-02-15T07:26:19.159188Z",
     "shell.execute_reply": "2024-02-15T07:26:19.158061Z"
    },
    "papermill": {
     "duration": 2.392707,
     "end_time": "2024-02-15T07:26:19.161532",
     "exception": false,
     "start_time": "2024-02-15T07:26:16.768825",
     "status": "completed"
    },
    "tags": []
   },
   "outputs": [
    {
     "name": "stderr",
     "output_type": "stream",
     "text": [
      "/opt/conda/lib/python3.10/site-packages/scipy/__init__.py:146: UserWarning: A NumPy version >=1.16.5 and <1.23.0 is required for this version of SciPy (detected version 1.24.3\n",
      "  warnings.warn(f\"A NumPy version >={np_minversion} and <{np_maxversion}\"\n"
     ]
    },
    {
     "name": "stdout",
     "output_type": "stream",
     "text": [
      "/kaggle/input/diabetes-prediction-dataset/diabetes_prediction_dataset.csv\n"
     ]
    }
   ],
   "source": [
    "# This Python 3 environment comes with many helpful analytics libraries installed\n",
    "# It is defined by the kaggle/python Docker image: https://github.com/kaggle/docker-python\n",
    "# For example, here's several helpful packages to load\n",
    "\n",
    "import numpy as np # linear algebra\n",
    "import pandas as pd # data processing, CSV file I/O (e.g. pd.read_csv)\n",
    "from scipy.stats.mstats import winsorize\n",
    "import matplotlib.pyplot as plt\n",
    "from sklearn.feature_selection import RFECV\n",
    "import seaborn as sns\n",
    "from sklearn.model_selection import train_test_split\n",
    "from sklearn.pipeline import Pipeline\n",
    "from sklearn.preprocessing import StandardScaler\n",
    "from sklearn.neighbors import KNeighborsClassifier\n",
    "from sklearn.linear_model import LogisticRegression\n",
    "from sklearn.tree import DecisionTreeClassifier\n",
    "from sklearn.model_selection import GridSearchCV\n",
    "from sklearn.ensemble import RandomForestClassifier\n",
    "from xgboost import XGBClassifier\n",
    "from sklearn.model_selection import KFold, cross_val_score\n",
    "from sklearn.metrics import confusion_matrix,f1_score, roc_curve, auc, accuracy_score,precision_score,recall_score\n",
    "# Input data files are available in the read-only \"../input/\" directory\n",
    "# For example, running this (by clicking run or pressing Shift+Enter) will list all files under the input directory\n",
    "\n",
    "import os\n",
    "for dirname, _, filenames in os.walk('/kaggle/input'):\n",
    "    for filename in filenames:\n",
    "        print(os.path.join(dirname, filename))\n",
    "\n",
    "# You can write up to 20GB to the current directory (/kaggle/working/) that gets preserved as output when you create a version using \"Save & Run All\" \n",
    "# You can also write temporary files to /kaggle/temp/, but they won't be saved outside of the current session"
   ]
  },
  {
   "cell_type": "code",
   "execution_count": 2,
   "id": "8bcf6cdc",
   "metadata": {
    "execution": {
     "iopub.execute_input": "2024-02-15T07:26:19.195372Z",
     "iopub.status.busy": "2024-02-15T07:26:19.194400Z",
     "iopub.status.idle": "2024-02-15T07:26:19.387672Z",
     "shell.execute_reply": "2024-02-15T07:26:19.386687Z"
    },
    "papermill": {
     "duration": 0.213171,
     "end_time": "2024-02-15T07:26:19.390659",
     "exception": false,
     "start_time": "2024-02-15T07:26:19.177488",
     "status": "completed"
    },
    "tags": []
   },
   "outputs": [],
   "source": [
    "df = pd.read_csv('/kaggle/input/diabetes-prediction-dataset/diabetes_prediction_dataset.csv')"
   ]
  },
  {
   "cell_type": "code",
   "execution_count": 3,
   "id": "b388806a",
   "metadata": {
    "execution": {
     "iopub.execute_input": "2024-02-15T07:26:19.428775Z",
     "iopub.status.busy": "2024-02-15T07:26:19.428430Z",
     "iopub.status.idle": "2024-02-15T07:26:19.486616Z",
     "shell.execute_reply": "2024-02-15T07:26:19.485666Z"
    },
    "papermill": {
     "duration": 0.078141,
     "end_time": "2024-02-15T07:26:19.488619",
     "exception": false,
     "start_time": "2024-02-15T07:26:19.410478",
     "status": "completed"
    },
    "tags": []
   },
   "outputs": [
    {
     "data": {
      "text/html": [
       "<div>\n",
       "<style scoped>\n",
       "    .dataframe tbody tr th:only-of-type {\n",
       "        vertical-align: middle;\n",
       "    }\n",
       "\n",
       "    .dataframe tbody tr th {\n",
       "        vertical-align: top;\n",
       "    }\n",
       "\n",
       "    .dataframe thead th {\n",
       "        text-align: right;\n",
       "    }\n",
       "</style>\n",
       "<table border=\"1\" class=\"dataframe\">\n",
       "  <thead>\n",
       "    <tr style=\"text-align: right;\">\n",
       "      <th></th>\n",
       "      <th>count</th>\n",
       "      <th>mean</th>\n",
       "      <th>std</th>\n",
       "      <th>min</th>\n",
       "      <th>25%</th>\n",
       "      <th>50%</th>\n",
       "      <th>75%</th>\n",
       "      <th>max</th>\n",
       "    </tr>\n",
       "  </thead>\n",
       "  <tbody>\n",
       "    <tr>\n",
       "      <th>age</th>\n",
       "      <td>100000.0</td>\n",
       "      <td>41.885856</td>\n",
       "      <td>22.516840</td>\n",
       "      <td>0.08</td>\n",
       "      <td>24.00</td>\n",
       "      <td>43.00</td>\n",
       "      <td>60.00</td>\n",
       "      <td>80.00</td>\n",
       "    </tr>\n",
       "    <tr>\n",
       "      <th>hypertension</th>\n",
       "      <td>100000.0</td>\n",
       "      <td>0.074850</td>\n",
       "      <td>0.263150</td>\n",
       "      <td>0.00</td>\n",
       "      <td>0.00</td>\n",
       "      <td>0.00</td>\n",
       "      <td>0.00</td>\n",
       "      <td>1.00</td>\n",
       "    </tr>\n",
       "    <tr>\n",
       "      <th>heart_disease</th>\n",
       "      <td>100000.0</td>\n",
       "      <td>0.039420</td>\n",
       "      <td>0.194593</td>\n",
       "      <td>0.00</td>\n",
       "      <td>0.00</td>\n",
       "      <td>0.00</td>\n",
       "      <td>0.00</td>\n",
       "      <td>1.00</td>\n",
       "    </tr>\n",
       "    <tr>\n",
       "      <th>bmi</th>\n",
       "      <td>100000.0</td>\n",
       "      <td>27.320767</td>\n",
       "      <td>6.636783</td>\n",
       "      <td>10.01</td>\n",
       "      <td>23.63</td>\n",
       "      <td>27.32</td>\n",
       "      <td>29.58</td>\n",
       "      <td>95.69</td>\n",
       "    </tr>\n",
       "    <tr>\n",
       "      <th>HbA1c_level</th>\n",
       "      <td>100000.0</td>\n",
       "      <td>5.527507</td>\n",
       "      <td>1.070672</td>\n",
       "      <td>3.50</td>\n",
       "      <td>4.80</td>\n",
       "      <td>5.80</td>\n",
       "      <td>6.20</td>\n",
       "      <td>9.00</td>\n",
       "    </tr>\n",
       "    <tr>\n",
       "      <th>blood_glucose_level</th>\n",
       "      <td>100000.0</td>\n",
       "      <td>138.058060</td>\n",
       "      <td>40.708136</td>\n",
       "      <td>80.00</td>\n",
       "      <td>100.00</td>\n",
       "      <td>140.00</td>\n",
       "      <td>159.00</td>\n",
       "      <td>300.00</td>\n",
       "    </tr>\n",
       "    <tr>\n",
       "      <th>diabetes</th>\n",
       "      <td>100000.0</td>\n",
       "      <td>0.085000</td>\n",
       "      <td>0.278883</td>\n",
       "      <td>0.00</td>\n",
       "      <td>0.00</td>\n",
       "      <td>0.00</td>\n",
       "      <td>0.00</td>\n",
       "      <td>1.00</td>\n",
       "    </tr>\n",
       "  </tbody>\n",
       "</table>\n",
       "</div>"
      ],
      "text/plain": [
       "                        count        mean        std    min     25%     50%  \\\n",
       "age                  100000.0   41.885856  22.516840   0.08   24.00   43.00   \n",
       "hypertension         100000.0    0.074850   0.263150   0.00    0.00    0.00   \n",
       "heart_disease        100000.0    0.039420   0.194593   0.00    0.00    0.00   \n",
       "bmi                  100000.0   27.320767   6.636783  10.01   23.63   27.32   \n",
       "HbA1c_level          100000.0    5.527507   1.070672   3.50    4.80    5.80   \n",
       "blood_glucose_level  100000.0  138.058060  40.708136  80.00  100.00  140.00   \n",
       "diabetes             100000.0    0.085000   0.278883   0.00    0.00    0.00   \n",
       "\n",
       "                        75%     max  \n",
       "age                   60.00   80.00  \n",
       "hypertension           0.00    1.00  \n",
       "heart_disease          0.00    1.00  \n",
       "bmi                   29.58   95.69  \n",
       "HbA1c_level            6.20    9.00  \n",
       "blood_glucose_level  159.00  300.00  \n",
       "diabetes               0.00    1.00  "
      ]
     },
     "execution_count": 3,
     "metadata": {},
     "output_type": "execute_result"
    }
   ],
   "source": [
    "df.describe().T"
   ]
  },
  {
   "cell_type": "code",
   "execution_count": 4,
   "id": "a5f137cf",
   "metadata": {
    "execution": {
     "iopub.execute_input": "2024-02-15T07:26:19.521420Z",
     "iopub.status.busy": "2024-02-15T07:26:19.521134Z",
     "iopub.status.idle": "2024-02-15T07:26:19.557921Z",
     "shell.execute_reply": "2024-02-15T07:26:19.556756Z"
    },
    "papermill": {
     "duration": 0.055539,
     "end_time": "2024-02-15T07:26:19.559976",
     "exception": false,
     "start_time": "2024-02-15T07:26:19.504437",
     "status": "completed"
    },
    "tags": []
   },
   "outputs": [
    {
     "name": "stdout",
     "output_type": "stream",
     "text": [
      "<class 'pandas.core.frame.DataFrame'>\n",
      "RangeIndex: 100000 entries, 0 to 99999\n",
      "Data columns (total 9 columns):\n",
      " #   Column               Non-Null Count   Dtype  \n",
      "---  ------               --------------   -----  \n",
      " 0   gender               100000 non-null  object \n",
      " 1   age                  100000 non-null  float64\n",
      " 2   hypertension         100000 non-null  int64  \n",
      " 3   heart_disease        100000 non-null  int64  \n",
      " 4   smoking_history      100000 non-null  object \n",
      " 5   bmi                  100000 non-null  float64\n",
      " 6   HbA1c_level          100000 non-null  float64\n",
      " 7   blood_glucose_level  100000 non-null  int64  \n",
      " 8   diabetes             100000 non-null  int64  \n",
      "dtypes: float64(3), int64(4), object(2)\n",
      "memory usage: 6.9+ MB\n"
     ]
    }
   ],
   "source": [
    "df.info()"
   ]
  },
  {
   "cell_type": "code",
   "execution_count": 5,
   "id": "79264fd1",
   "metadata": {
    "execution": {
     "iopub.execute_input": "2024-02-15T07:26:19.593706Z",
     "iopub.status.busy": "2024-02-15T07:26:19.593047Z",
     "iopub.status.idle": "2024-02-15T07:26:19.623369Z",
     "shell.execute_reply": "2024-02-15T07:26:19.622590Z"
    },
    "papermill": {
     "duration": 0.048858,
     "end_time": "2024-02-15T07:26:19.625271",
     "exception": false,
     "start_time": "2024-02-15T07:26:19.576413",
     "status": "completed"
    },
    "tags": []
   },
   "outputs": [
    {
     "data": {
      "text/plain": [
       "gender                 0\n",
       "age                    0\n",
       "hypertension           0\n",
       "heart_disease          0\n",
       "smoking_history        0\n",
       "bmi                    0\n",
       "HbA1c_level            0\n",
       "blood_glucose_level    0\n",
       "diabetes               0\n",
       "dtype: int64"
      ]
     },
     "execution_count": 5,
     "metadata": {},
     "output_type": "execute_result"
    }
   ],
   "source": [
    "df.isnull().sum()"
   ]
  },
  {
   "cell_type": "code",
   "execution_count": 6,
   "id": "33ddadb1",
   "metadata": {
    "execution": {
     "iopub.execute_input": "2024-02-15T07:26:19.659846Z",
     "iopub.status.busy": "2024-02-15T07:26:19.659020Z",
     "iopub.status.idle": "2024-02-15T07:26:20.153706Z",
     "shell.execute_reply": "2024-02-15T07:26:20.152839Z"
    },
    "papermill": {
     "duration": 0.514529,
     "end_time": "2024-02-15T07:26:20.155902",
     "exception": false,
     "start_time": "2024-02-15T07:26:19.641373",
     "status": "completed"
    },
    "tags": []
   },
   "outputs": [
    {
     "name": "stderr",
     "output_type": "stream",
     "text": [
      "/opt/conda/lib/python3.10/site-packages/seaborn/_oldcore.py:1119: FutureWarning: use_inf_as_na option is deprecated and will be removed in a future version. Convert inf values to NaN before operating instead.\n",
      "  with pd.option_context('mode.use_inf_as_na', True):\n"
     ]
    },
    {
     "data": {
      "text/plain": [
       "<Axes: xlabel='age', ylabel='Count'>"
      ]
     },
     "execution_count": 6,
     "metadata": {},
     "output_type": "execute_result"
    },
    {
     "data": {
      "image/png": "[encoded data removed]",
      "text/plain": [
       "<Figure size 640x480 with 1 Axes>"
      ]
     },
     "metadata": {},
     "output_type": "display_data"
    }
   ],
   "source": [
    "sns.histplot(df['age'])\n"
   ]
  },
  {
   "cell_type": "code",
   "execution_count": 7,
   "id": "30489ca2",
   "metadata": {
    "execution": {
     "iopub.execute_input": "2024-02-15T07:26:20.189976Z",
     "iopub.status.busy": "2024-02-15T07:26:20.189645Z",
     "iopub.status.idle": "2024-02-15T07:26:20.194696Z",
     "shell.execute_reply": "2024-02-15T07:26:20.193982Z"
    },
    "papermill": {
     "duration": 0.024267,
     "end_time": "2024-02-15T07:26:20.196644",
     "exception": false,
     "start_time": "2024-02-15T07:26:20.172377",
     "status": "completed"
    },
    "tags": []
   },
   "outputs": [],
   "source": [
    "df['age'] = np.ceil(df['age'])"
   ]
  },
  {
   "cell_type": "markdown",
   "id": "34e84335",
   "metadata": {
    "papermill": {
     "duration": 0.016164,
     "end_time": "2024-02-15T07:26:20.229182",
     "exception": false,
     "start_time": "2024-02-15T07:26:20.213018",
     "status": "completed"
    },
    "tags": []
   },
   "source": []
  },
  {
   "cell_type": "code",
   "execution_count": 8,
   "id": "2da22158",
   "metadata": {
    "execution": {
     "iopub.execute_input": "2024-02-15T07:26:20.263074Z",
     "iopub.status.busy": "2024-02-15T07:26:20.262298Z",
     "iopub.status.idle": "2024-02-15T07:26:20.278309Z",
     "shell.execute_reply": "2024-02-15T07:26:20.277496Z"
    },
    "papermill": {
     "duration": 0.034725,
     "end_time": "2024-02-15T07:26:20.280050",
     "exception": false,
     "start_time": "2024-02-15T07:26:20.245325",
     "status": "completed"
    },
    "tags": []
   },
   "outputs": [
    {
     "data": {
      "text/html": [
       "<div>\n",
       "<style scoped>\n",
       "    .dataframe tbody tr th:only-of-type {\n",
       "        vertical-align: middle;\n",
       "    }\n",
       "\n",
       "    .dataframe tbody tr th {\n",
       "        vertical-align: top;\n",
       "    }\n",
       "\n",
       "    .dataframe thead th {\n",
       "        text-align: right;\n",
       "    }\n",
       "</style>\n",
       "<table border=\"1\" class=\"dataframe\">\n",
       "  <thead>\n",
       "    <tr style=\"text-align: right;\">\n",
       "      <th></th>\n",
       "      <th>count</th>\n",
       "    </tr>\n",
       "    <tr>\n",
       "      <th>age</th>\n",
       "      <th></th>\n",
       "    </tr>\n",
       "  </thead>\n",
       "  <tbody>\n",
       "    <tr>\n",
       "      <th>1.0</th>\n",
       "      <td>994</td>\n",
       "    </tr>\n",
       "    <tr>\n",
       "      <th>2.0</th>\n",
       "      <td>2293</td>\n",
       "    </tr>\n",
       "    <tr>\n",
       "      <th>3.0</th>\n",
       "      <td>1038</td>\n",
       "    </tr>\n",
       "    <tr>\n",
       "      <th>4.0</th>\n",
       "      <td>953</td>\n",
       "    </tr>\n",
       "    <tr>\n",
       "      <th>5.0</th>\n",
       "      <td>993</td>\n",
       "    </tr>\n",
       "    <tr>\n",
       "      <th>...</th>\n",
       "      <td>...</td>\n",
       "    </tr>\n",
       "    <tr>\n",
       "      <th>76.0</th>\n",
       "      <td>733</td>\n",
       "    </tr>\n",
       "    <tr>\n",
       "      <th>77.0</th>\n",
       "      <td>730</td>\n",
       "    </tr>\n",
       "    <tr>\n",
       "      <th>78.0</th>\n",
       "      <td>682</td>\n",
       "    </tr>\n",
       "    <tr>\n",
       "      <th>79.0</th>\n",
       "      <td>621</td>\n",
       "    </tr>\n",
       "    <tr>\n",
       "      <th>80.0</th>\n",
       "      <td>5621</td>\n",
       "    </tr>\n",
       "  </tbody>\n",
       "</table>\n",
       "<p>80 rows × 1 columns</p>\n",
       "</div>"
      ],
      "text/plain": [
       "      count\n",
       "age        \n",
       "1.0     994\n",
       "2.0    2293\n",
       "3.0    1038\n",
       "4.0     953\n",
       "5.0     993\n",
       "...     ...\n",
       "76.0    733\n",
       "77.0    730\n",
       "78.0    682\n",
       "79.0    621\n",
       "80.0   5621\n",
       "\n",
       "[80 rows x 1 columns]"
      ]
     },
     "execution_count": 8,
     "metadata": {},
     "output_type": "execute_result"
    }
   ],
   "source": [
    "df['age'].value_counts().to_frame().sort_values(by='age',ascending=True)"
   ]
  },
  {
   "cell_type": "code",
   "execution_count": 9,
   "id": "5e7faf42",
   "metadata": {
    "execution": {
     "iopub.execute_input": "2024-02-15T07:26:20.359559Z",
     "iopub.status.busy": "2024-02-15T07:26:20.359136Z",
     "iopub.status.idle": "2024-02-15T07:26:20.860579Z",
     "shell.execute_reply": "2024-02-15T07:26:20.859656Z"
    },
    "papermill": {
     "duration": 0.52447,
     "end_time": "2024-02-15T07:26:20.862670",
     "exception": false,
     "start_time": "2024-02-15T07:26:20.338200",
     "status": "completed"
    },
    "tags": []
   },
   "outputs": [
    {
     "name": "stderr",
     "output_type": "stream",
     "text": [
      "/opt/conda/lib/python3.10/site-packages/seaborn/_oldcore.py:1119: FutureWarning: use_inf_as_na option is deprecated and will be removed in a future version. Convert inf values to NaN before operating instead.\n",
      "  with pd.option_context('mode.use_inf_as_na', True):\n"
     ]
    },
    {
     "data": {
      "text/plain": [
       "<Axes: xlabel='age', ylabel='Count'>"
      ]
     },
     "execution_count": 9,
     "metadata": {},
     "output_type": "execute_result"
    },
    {
     "data": {
      "image/png": "[encoded data removed]",
      "text/plain": [
       "<Figure size 640x480 with 1 Axes>"
      ]
     },
     "metadata": {},
     "output_type": "display_data"
    }
   ],
   "source": [
    "sns.histplot(df['age'])\n"
   ]
  },
  {
   "cell_type": "code",
   "execution_count": 10,
   "id": "c65faa07",
   "metadata": {
    "execution": {
     "iopub.execute_input": "2024-02-15T07:26:20.900834Z",
     "iopub.status.busy": "2024-02-15T07:26:20.899819Z",
     "iopub.status.idle": "2024-02-15T07:26:21.251515Z",
     "shell.execute_reply": "2024-02-15T07:26:21.250621Z"
    },
    "papermill": {
     "duration": 0.373618,
     "end_time": "2024-02-15T07:26:21.253689",
     "exception": false,
     "start_time": "2024-02-15T07:26:20.880071",
     "status": "completed"
    },
    "tags": []
   },
   "outputs": [
    {
     "data": {
      "text/plain": [
       "<Axes: xlabel='diabetes', ylabel='count'>"
      ]
     },
     "execution_count": 10,
     "metadata": {},
     "output_type": "execute_result"
    },
    {
     "data": {
      "image/png": "[encoded data removed]",
      "text/plain": [
       "<Figure size 640x480 with 1 Axes>"
      ]
     },
     "metadata": {},
     "output_type": "display_data"
    }
   ],
   "source": [
    "sns.countplot(x = df[\"diabetes\"], hue=df[\"gender\"])"
   ]
  },
  {
   "cell_type": "code",
   "execution_count": 11,
   "id": "5f0a43e6",
   "metadata": {
    "execution": {
     "iopub.execute_input": "2024-02-15T07:26:21.290693Z",
     "iopub.status.busy": "2024-02-15T07:26:21.290387Z",
     "iopub.status.idle": "2024-02-15T07:26:21.743548Z",
     "shell.execute_reply": "2024-02-15T07:26:21.742596Z"
    },
    "papermill": {
     "duration": 0.47387,
     "end_time": "2024-02-15T07:26:21.745808",
     "exception": false,
     "start_time": "2024-02-15T07:26:21.271938",
     "status": "completed"
    },
    "tags": []
   },
   "outputs": [
    {
     "data": {
      "text/plain": [
       "<Axes: xlabel='diabetes', ylabel='count'>"
      ]
     },
     "execution_count": 11,
     "metadata": {},
     "output_type": "execute_result"
    },
    {
     "data": {
      "image/png": "[encoded data removed]",
      "text/plain": [
       "<Figure size 640x480 with 1 Axes>"
      ]
     },
     "metadata": {},
     "output_type": "display_data"
    }
   ],
   "source": [
    "sns.countplot(x=df['diabetes'],hue=df['smoking_history'])"
   ]
  },
  {
   "cell_type": "code",
   "execution_count": 12,
   "id": "a3cd0b1b",
   "metadata": {
    "execution": {
     "iopub.execute_input": "2024-02-15T07:26:21.784462Z",
     "iopub.status.busy": "2024-02-15T07:26:21.784159Z",
     "iopub.status.idle": "2024-02-15T07:26:25.445367Z",
     "shell.execute_reply": "2024-02-15T07:26:25.444444Z"
    },
    "papermill": {
     "duration": 3.68346,
     "end_time": "2024-02-15T07:26:25.447812",
     "exception": false,
     "start_time": "2024-02-15T07:26:21.764352",
     "status": "completed"
    },
    "tags": []
   },
   "outputs": [
    {
     "name": "stderr",
     "output_type": "stream",
     "text": [
      "/opt/conda/lib/python3.10/site-packages/seaborn/_oldcore.py:1119: FutureWarning: use_inf_as_na option is deprecated and will be removed in a future version. Convert inf values to NaN before operating instead.\n",
      "  with pd.option_context('mode.use_inf_as_na', True):\n",
      "/opt/conda/lib/python3.10/site-packages/seaborn/_oldcore.py:1119: FutureWarning: use_inf_as_na option is deprecated and will be removed in a future version. Convert inf values to NaN before operating instead.\n",
      "  with pd.option_context('mode.use_inf_as_na', True):\n"
     ]
    },
    {
     "data": {
      "text/plain": [
       "<Axes: xlabel='age', ylabel='diabetes'>"
      ]
     },
     "execution_count": 12,
     "metadata": {},
     "output_type": "execute_result"
    },
    {
     "data": {
      "image/png": "[encoded data removed]",
      "text/plain": [
       "<Figure size 640x480 with 1 Axes>"
      ]
     },
     "metadata": {},
     "output_type": "display_data"
    }
   ],
   "source": [
    "sns.lineplot(df, x= df['age'], y=df['diabetes'])"
   ]
  },
  {
   "cell_type": "code",
   "execution_count": 13,
   "id": "8d688e50",
   "metadata": {
    "execution": {
     "iopub.execute_input": "2024-02-15T07:26:25.488103Z",
     "iopub.status.busy": "2024-02-15T07:26:25.487752Z",
     "iopub.status.idle": "2024-02-15T07:26:29.054837Z",
     "shell.execute_reply": "2024-02-15T07:26:29.053932Z"
    },
    "papermill": {
     "duration": 3.589812,
     "end_time": "2024-02-15T07:26:29.057244",
     "exception": false,
     "start_time": "2024-02-15T07:26:25.467432",
     "status": "completed"
    },
    "tags": []
   },
   "outputs": [
    {
     "name": "stderr",
     "output_type": "stream",
     "text": [
      "/opt/conda/lib/python3.10/site-packages/seaborn/_oldcore.py:1119: FutureWarning: use_inf_as_na option is deprecated and will be removed in a future version. Convert inf values to NaN before operating instead.\n",
      "  with pd.option_context('mode.use_inf_as_na', True):\n",
      "/opt/conda/lib/python3.10/site-packages/seaborn/_oldcore.py:1119: FutureWarning: use_inf_as_na option is deprecated and will be removed in a future version. Convert inf values to NaN before operating instead.\n",
      "  with pd.option_context('mode.use_inf_as_na', True):\n"
     ]
    },
    {
     "data": {
      "text/plain": [
       "<Axes: xlabel='age', ylabel='bmi'>"
      ]
     },
     "execution_count": 13,
     "metadata": {},
     "output_type": "execute_result"
    },
    {
     "data": {
      "image/png": "[encoded data removed]",
      "text/plain": [
       "<Figure size 640x480 with 1 Axes>"
      ]
     },
     "metadata": {},
     "output_type": "display_data"
    }
   ],
   "source": [
    "sns.lineplot(df, x= df['age'], y=df['bmi'])"
   ]
  },
  {
   "cell_type": "code",
   "execution_count": 14,
   "id": "b2d5a64e",
   "metadata": {
    "execution": {
     "iopub.execute_input": "2024-02-15T07:26:29.098962Z",
     "iopub.status.busy": "2024-02-15T07:26:29.098647Z",
     "iopub.status.idle": "2024-02-15T07:26:29.126944Z",
     "shell.execute_reply": "2024-02-15T07:26:29.125862Z"
    },
    "papermill": {
     "duration": 0.051098,
     "end_time": "2024-02-15T07:26:29.128916",
     "exception": false,
     "start_time": "2024-02-15T07:26:29.077818",
     "status": "completed"
    },
    "tags": []
   },
   "outputs": [
    {
     "name": "stdout",
     "output_type": "stream",
     "text": [
      "<class 'pandas.core.frame.DataFrame'>\n",
      "RangeIndex: 100000 entries, 0 to 99999\n",
      "Data columns (total 9 columns):\n",
      " #   Column               Non-Null Count   Dtype  \n",
      "---  ------               --------------   -----  \n",
      " 0   gender               100000 non-null  object \n",
      " 1   age                  100000 non-null  float64\n",
      " 2   hypertension         100000 non-null  int64  \n",
      " 3   heart_disease        100000 non-null  int64  \n",
      " 4   smoking_history      100000 non-null  object \n",
      " 5   bmi                  100000 non-null  float64\n",
      " 6   HbA1c_level          100000 non-null  float64\n",
      " 7   blood_glucose_level  100000 non-null  int64  \n",
      " 8   diabetes             100000 non-null  int64  \n",
      "dtypes: float64(3), int64(4), object(2)\n",
      "memory usage: 6.9+ MB\n"
     ]
    }
   ],
   "source": [
    "df.info()"
   ]
  },
  {
   "cell_type": "code",
   "execution_count": 15,
   "id": "08a63627",
   "metadata": {
    "execution": {
     "iopub.execute_input": "2024-02-15T07:26:29.169834Z",
     "iopub.status.busy": "2024-02-15T07:26:29.169543Z",
     "iopub.status.idle": "2024-02-15T07:26:34.674221Z",
     "shell.execute_reply": "2024-02-15T07:26:34.673302Z"
    },
    "papermill": {
     "duration": 5.527742,
     "end_time": "2024-02-15T07:26:34.676794",
     "exception": false,
     "start_time": "2024-02-15T07:26:29.149052",
     "status": "completed"
    },
    "tags": []
   },
   "outputs": [
    {
     "data": {
      "text/plain": [
       "<Axes: xlabel='HbA1c_level', ylabel='blood_glucose_level'>"
      ]
     },
     "execution_count": 15,
     "metadata": {},
     "output_type": "execute_result"
    },
    {
     "data": {
      "image/png": "[encoded data removed]",
      "text/plain": [
       "<Figure size 640x480 with 1 Axes>"
      ]
     },
     "metadata": {},
     "output_type": "display_data"
    }
   ],
   "source": [
    "sns.scatterplot(df, x= df['HbA1c_level'], y=df['blood_glucose_level'], hue = df['diabetes'])"
   ]
  },
  {
   "cell_type": "code",
   "execution_count": 16,
   "id": "202c1482",
   "metadata": {
    "execution": {
     "iopub.execute_input": "2024-02-15T07:26:34.720869Z",
     "iopub.status.busy": "2024-02-15T07:26:34.720543Z",
     "iopub.status.idle": "2024-02-15T07:26:34.724516Z",
     "shell.execute_reply": "2024-02-15T07:26:34.723694Z"
    },
    "papermill": {
     "duration": 0.028656,
     "end_time": "2024-02-15T07:26:34.726622",
     "exception": false,
     "start_time": "2024-02-15T07:26:34.697966",
     "status": "completed"
    },
    "tags": []
   },
   "outputs": [],
   "source": [
    "# no 1 step is to extract features and target variables seprately "
   ]
  },
  {
   "cell_type": "code",
   "execution_count": 17,
   "id": "68b5785d",
   "metadata": {
    "execution": {
     "iopub.execute_input": "2024-02-15T07:26:34.769732Z",
     "iopub.status.busy": "2024-02-15T07:26:34.769419Z",
     "iopub.status.idle": "2024-02-15T07:26:34.785650Z",
     "shell.execute_reply": "2024-02-15T07:26:34.784969Z"
    },
    "papermill": {
     "duration": 0.039774,
     "end_time": "2024-02-15T07:26:34.787608",
     "exception": false,
     "start_time": "2024-02-15T07:26:34.747834",
     "status": "completed"
    },
    "tags": []
   },
   "outputs": [],
   "source": [
    "features  = df.iloc[:,:-1].copy(deep=True)\n",
    "target = df.iloc[:,-1].copy(deep=True)"
   ]
  },
  {
   "cell_type": "code",
   "execution_count": 18,
   "id": "6eb4476c",
   "metadata": {
    "execution": {
     "iopub.execute_input": "2024-02-15T07:26:34.830004Z",
     "iopub.status.busy": "2024-02-15T07:26:34.829714Z",
     "iopub.status.idle": "2024-02-15T07:26:34.847037Z",
     "shell.execute_reply": "2024-02-15T07:26:34.846113Z"
    },
    "papermill": {
     "duration": 0.040623,
     "end_time": "2024-02-15T07:26:34.848917",
     "exception": false,
     "start_time": "2024-02-15T07:26:34.808294",
     "status": "completed"
    },
    "tags": []
   },
   "outputs": [
    {
     "data": {
      "text/html": [
       "<div>\n",
       "<style scoped>\n",
       "    .dataframe tbody tr th:only-of-type {\n",
       "        vertical-align: middle;\n",
       "    }\n",
       "\n",
       "    .dataframe tbody tr th {\n",
       "        vertical-align: top;\n",
       "    }\n",
       "\n",
       "    .dataframe thead th {\n",
       "        text-align: right;\n",
       "    }\n",
       "</style>\n",
       "<table border=\"1\" class=\"dataframe\">\n",
       "  <thead>\n",
       "    <tr style=\"text-align: right;\">\n",
       "      <th></th>\n",
       "      <th>gender</th>\n",
       "      <th>age</th>\n",
       "      <th>hypertension</th>\n",
       "      <th>heart_disease</th>\n",
       "      <th>smoking_history</th>\n",
       "      <th>bmi</th>\n",
       "      <th>HbA1c_level</th>\n",
       "      <th>blood_glucose_level</th>\n",
       "    </tr>\n",
       "  </thead>\n",
       "  <tbody>\n",
       "    <tr>\n",
       "      <th>0</th>\n",
       "      <td>Female</td>\n",
       "      <td>80.0</td>\n",
       "      <td>0</td>\n",
       "      <td>1</td>\n",
       "      <td>never</td>\n",
       "      <td>25.19</td>\n",
       "      <td>6.6</td>\n",
       "      <td>140</td>\n",
       "    </tr>\n",
       "    <tr>\n",
       "      <th>1</th>\n",
       "      <td>Female</td>\n",
       "      <td>54.0</td>\n",
       "      <td>0</td>\n",
       "      <td>0</td>\n",
       "      <td>No Info</td>\n",
       "      <td>27.32</td>\n",
       "      <td>6.6</td>\n",
       "      <td>80</td>\n",
       "    </tr>\n",
       "    <tr>\n",
       "      <th>2</th>\n",
       "      <td>Male</td>\n",
       "      <td>28.0</td>\n",
       "      <td>0</td>\n",
       "      <td>0</td>\n",
       "      <td>never</td>\n",
       "      <td>27.32</td>\n",
       "      <td>5.7</td>\n",
       "      <td>158</td>\n",
       "    </tr>\n",
       "    <tr>\n",
       "      <th>3</th>\n",
       "      <td>Female</td>\n",
       "      <td>36.0</td>\n",
       "      <td>0</td>\n",
       "      <td>0</td>\n",
       "      <td>current</td>\n",
       "      <td>23.45</td>\n",
       "      <td>5.0</td>\n",
       "      <td>155</td>\n",
       "    </tr>\n",
       "    <tr>\n",
       "      <th>4</th>\n",
       "      <td>Male</td>\n",
       "      <td>76.0</td>\n",
       "      <td>1</td>\n",
       "      <td>1</td>\n",
       "      <td>current</td>\n",
       "      <td>20.14</td>\n",
       "      <td>4.8</td>\n",
       "      <td>155</td>\n",
       "    </tr>\n",
       "    <tr>\n",
       "      <th>...</th>\n",
       "      <td>...</td>\n",
       "      <td>...</td>\n",
       "      <td>...</td>\n",
       "      <td>...</td>\n",
       "      <td>...</td>\n",
       "      <td>...</td>\n",
       "      <td>...</td>\n",
       "      <td>...</td>\n",
       "    </tr>\n",
       "    <tr>\n",
       "      <th>99995</th>\n",
       "      <td>Female</td>\n",
       "      <td>80.0</td>\n",
       "      <td>0</td>\n",
       "      <td>0</td>\n",
       "      <td>No Info</td>\n",
       "      <td>27.32</td>\n",
       "      <td>6.2</td>\n",
       "      <td>90</td>\n",
       "    </tr>\n",
       "    <tr>\n",
       "      <th>99996</th>\n",
       "      <td>Female</td>\n",
       "      <td>2.0</td>\n",
       "      <td>0</td>\n",
       "      <td>0</td>\n",
       "      <td>No Info</td>\n",
       "      <td>17.37</td>\n",
       "      <td>6.5</td>\n",
       "      <td>100</td>\n",
       "    </tr>\n",
       "    <tr>\n",
       "      <th>99997</th>\n",
       "      <td>Male</td>\n",
       "      <td>66.0</td>\n",
       "      <td>0</td>\n",
       "      <td>0</td>\n",
       "      <td>former</td>\n",
       "      <td>27.83</td>\n",
       "      <td>5.7</td>\n",
       "      <td>155</td>\n",
       "    </tr>\n",
       "    <tr>\n",
       "      <th>99998</th>\n",
       "      <td>Female</td>\n",
       "      <td>24.0</td>\n",
       "      <td>0</td>\n",
       "      <td>0</td>\n",
       "      <td>never</td>\n",
       "      <td>35.42</td>\n",
       "      <td>4.0</td>\n",
       "      <td>100</td>\n",
       "    </tr>\n",
       "    <tr>\n",
       "      <th>99999</th>\n",
       "      <td>Female</td>\n",
       "      <td>57.0</td>\n",
       "      <td>0</td>\n",
       "      <td>0</td>\n",
       "      <td>current</td>\n",
       "      <td>22.43</td>\n",
       "      <td>6.6</td>\n",
       "      <td>90</td>\n",
       "    </tr>\n",
       "  </tbody>\n",
       "</table>\n",
       "<p>100000 rows × 8 columns</p>\n",
       "</div>"
      ],
      "text/plain": [
       "       gender   age  hypertension  heart_disease smoking_history    bmi  \\\n",
       "0      Female  80.0             0              1           never  25.19   \n",
       "1      Female  54.0             0              0         No Info  27.32   \n",
       "2        Male  28.0             0              0           never  27.32   \n",
       "3      Female  36.0             0              0         current  23.45   \n",
       "4        Male  76.0             1              1         current  20.14   \n",
       "...       ...   ...           ...            ...             ...    ...   \n",
       "99995  Female  80.0             0              0         No Info  27.32   \n",
       "99996  Female   2.0             0              0         No Info  17.37   \n",
       "99997    Male  66.0             0              0          former  27.83   \n",
       "99998  Female  24.0             0              0           never  35.42   \n",
       "99999  Female  57.0             0              0         current  22.43   \n",
       "\n",
       "       HbA1c_level  blood_glucose_level  \n",
       "0              6.6                  140  \n",
       "1              6.6                   80  \n",
       "2              5.7                  158  \n",
       "3              5.0                  155  \n",
       "4              4.8                  155  \n",
       "...            ...                  ...  \n",
       "99995          6.2                   90  \n",
       "99996          6.5                  100  \n",
       "99997          5.7                  155  \n",
       "99998          4.0                  100  \n",
       "99999          6.6                   90  \n",
       "\n",
       "[100000 rows x 8 columns]"
      ]
     },
     "execution_count": 18,
     "metadata": {},
     "output_type": "execute_result"
    }
   ],
   "source": [
    "features"
   ]
  },
  {
   "cell_type": "code",
   "execution_count": 19,
   "id": "cd61e736",
   "metadata": {
    "execution": {
     "iopub.execute_input": "2024-02-15T07:26:34.891767Z",
     "iopub.status.busy": "2024-02-15T07:26:34.891470Z",
     "iopub.status.idle": "2024-02-15T07:26:34.926698Z",
     "shell.execute_reply": "2024-02-15T07:26:34.925989Z"
    },
    "papermill": {
     "duration": 0.058974,
     "end_time": "2024-02-15T07:26:34.928766",
     "exception": false,
     "start_time": "2024-02-15T07:26:34.869792",
     "status": "completed"
    },
    "tags": []
   },
   "outputs": [],
   "source": [
    "encoded_data = pd.get_dummies(features[['gender','smoking_history']],dtype=int)\n",
    "features.drop(['gender','smoking_history'],axis=1,inplace=True)"
   ]
  },
  {
   "cell_type": "code",
   "execution_count": 20,
   "id": "d8c51040",
   "metadata": {
    "execution": {
     "iopub.execute_input": "2024-02-15T07:26:34.972289Z",
     "iopub.status.busy": "2024-02-15T07:26:34.972011Z",
     "iopub.status.idle": "2024-02-15T07:26:34.994162Z",
     "shell.execute_reply": "2024-02-15T07:26:34.993342Z"
    },
    "papermill": {
     "duration": 0.045838,
     "end_time": "2024-02-15T07:26:34.996117",
     "exception": false,
     "start_time": "2024-02-15T07:26:34.950279",
     "status": "completed"
    },
    "tags": []
   },
   "outputs": [
    {
     "data": {
      "text/html": [
       "<div>\n",
       "<style scoped>\n",
       "    .dataframe tbody tr th:only-of-type {\n",
       "        vertical-align: middle;\n",
       "    }\n",
       "\n",
       "    .dataframe tbody tr th {\n",
       "        vertical-align: top;\n",
       "    }\n",
       "\n",
       "    .dataframe thead th {\n",
       "        text-align: right;\n",
       "    }\n",
       "</style>\n",
       "<table border=\"1\" class=\"dataframe\">\n",
       "  <thead>\n",
       "    <tr style=\"text-align: right;\">\n",
       "      <th></th>\n",
       "      <th>age</th>\n",
       "      <th>hypertension</th>\n",
       "      <th>heart_disease</th>\n",
       "      <th>bmi</th>\n",
       "      <th>HbA1c_level</th>\n",
       "      <th>blood_glucose_level</th>\n",
       "      <th>gender_Female</th>\n",
       "      <th>gender_Male</th>\n",
       "      <th>gender_Other</th>\n",
       "      <th>smoking_history_No Info</th>\n",
       "      <th>smoking_history_current</th>\n",
       "      <th>smoking_history_ever</th>\n",
       "      <th>smoking_history_former</th>\n",
       "      <th>smoking_history_never</th>\n",
       "      <th>smoking_history_not current</th>\n",
       "    </tr>\n",
       "  </thead>\n",
       "  <tbody>\n",
       "    <tr>\n",
       "      <th>0</th>\n",
       "      <td>80.0</td>\n",
       "      <td>0</td>\n",
       "      <td>1</td>\n",
       "      <td>25.19</td>\n",
       "      <td>6.6</td>\n",
       "      <td>140</td>\n",
       "      <td>1</td>\n",
       "      <td>0</td>\n",
       "      <td>0</td>\n",
       "      <td>0</td>\n",
       "      <td>0</td>\n",
       "      <td>0</td>\n",
       "      <td>0</td>\n",
       "      <td>1</td>\n",
       "      <td>0</td>\n",
       "    </tr>\n",
       "    <tr>\n",
       "      <th>1</th>\n",
       "      <td>54.0</td>\n",
       "      <td>0</td>\n",
       "      <td>0</td>\n",
       "      <td>27.32</td>\n",
       "      <td>6.6</td>\n",
       "      <td>80</td>\n",
       "      <td>1</td>\n",
       "      <td>0</td>\n",
       "      <td>0</td>\n",
       "      <td>1</td>\n",
       "      <td>0</td>\n",
       "      <td>0</td>\n",
       "      <td>0</td>\n",
       "      <td>0</td>\n",
       "      <td>0</td>\n",
       "    </tr>\n",
       "  </tbody>\n",
       "</table>\n",
       "</div>"
      ],
      "text/plain": [
       "    age  hypertension  heart_disease    bmi  HbA1c_level  blood_glucose_level  \\\n",
       "0  80.0             0              1  25.19          6.6                  140   \n",
       "1  54.0             0              0  27.32          6.6                   80   \n",
       "\n",
       "   gender_Female  gender_Male  gender_Other  smoking_history_No Info  \\\n",
       "0              1            0             0                        0   \n",
       "1              1            0             0                        1   \n",
       "\n",
       "   smoking_history_current  smoking_history_ever  smoking_history_former  \\\n",
       "0                        0                     0                       0   \n",
       "1                        0                     0                       0   \n",
       "\n",
       "   smoking_history_never  smoking_history_not current  \n",
       "0                      1                            0  \n",
       "1                      0                            0  "
      ]
     },
     "execution_count": 20,
     "metadata": {},
     "output_type": "execute_result"
    }
   ],
   "source": [
    "features = pd.concat([features,encoded_data],axis=1)\n",
    "features.head(2)"
   ]
  },
  {
   "cell_type": "code",
   "execution_count": 21,
   "id": "3e31f1a5",
   "metadata": {
    "execution": {
     "iopub.execute_input": "2024-02-15T07:26:35.040093Z",
     "iopub.status.busy": "2024-02-15T07:26:35.039810Z",
     "iopub.status.idle": "2024-02-15T07:26:35.047305Z",
     "shell.execute_reply": "2024-02-15T07:26:35.046407Z"
    },
    "papermill": {
     "duration": 0.031273,
     "end_time": "2024-02-15T07:26:35.049097",
     "exception": false,
     "start_time": "2024-02-15T07:26:35.017824",
     "status": "completed"
    },
    "tags": []
   },
   "outputs": [
    {
     "data": {
      "text/plain": [
       "diabetes\n",
       "0    91500\n",
       "1     8500\n",
       "Name: count, dtype: int64"
      ]
     },
     "execution_count": 21,
     "metadata": {},
     "output_type": "execute_result"
    }
   ],
   "source": [
    "target.value_counts()"
   ]
  },
  {
   "cell_type": "code",
   "execution_count": 22,
   "id": "f8d061f1",
   "metadata": {
    "execution": {
     "iopub.execute_input": "2024-02-15T07:26:35.092790Z",
     "iopub.status.busy": "2024-02-15T07:26:35.092511Z",
     "iopub.status.idle": "2024-02-15T07:26:35.107800Z",
     "shell.execute_reply": "2024-02-15T07:26:35.107001Z"
    },
    "papermill": {
     "duration": 0.039519,
     "end_time": "2024-02-15T07:26:35.109821",
     "exception": false,
     "start_time": "2024-02-15T07:26:35.070302",
     "status": "completed"
    },
    "tags": []
   },
   "outputs": [],
   "source": [
    "# Combining target and training examples to upscale the minority class\n",
    "preprocessed_data_set = pd.concat([features,target],axis = 1)"
   ]
  },
  {
   "cell_type": "markdown",
   "id": "86d26f84",
   "metadata": {
    "papermill": {
     "duration": 0.021075,
     "end_time": "2024-02-15T07:26:35.152558",
     "exception": false,
     "start_time": "2024-02-15T07:26:35.131483",
     "status": "completed"
    },
    "tags": []
   },
   "source": [
    "Here we can see that our dataset is imbalanced so we'll upample our minority dataset by randomly selecting minority class with replacement "
   ]
  },
  {
   "cell_type": "code",
   "execution_count": 23,
   "id": "7d21cce3",
   "metadata": {
    "execution": {
     "iopub.execute_input": "2024-02-15T07:26:35.196777Z",
     "iopub.status.busy": "2024-02-15T07:26:35.196451Z",
     "iopub.status.idle": "2024-02-15T07:26:35.207708Z",
     "shell.execute_reply": "2024-02-15T07:26:35.206670Z"
    },
    "papermill": {
     "duration": 0.035563,
     "end_time": "2024-02-15T07:26:35.209611",
     "exception": false,
     "start_time": "2024-02-15T07:26:35.174048",
     "status": "completed"
    },
    "tags": []
   },
   "outputs": [],
   "source": [
    "majority = preprocessed_data_set[preprocessed_data_set.diabetes==0]\n",
    "minority = preprocessed_data_set[preprocessed_data_set.diabetes==1]"
   ]
  },
  {
   "cell_type": "code",
   "execution_count": 24,
   "id": "17a39c81",
   "metadata": {
    "execution": {
     "iopub.execute_input": "2024-02-15T07:26:35.253243Z",
     "iopub.status.busy": "2024-02-15T07:26:35.252987Z",
     "iopub.status.idle": "2024-02-15T07:26:35.281988Z",
     "shell.execute_reply": "2024-02-15T07:26:35.281048Z"
    },
    "papermill": {
     "duration": 0.053338,
     "end_time": "2024-02-15T07:26:35.284101",
     "exception": false,
     "start_time": "2024-02-15T07:26:35.230763",
     "status": "completed"
    },
    "tags": []
   },
   "outputs": [
    {
     "data": {
      "text/plain": [
       "183000"
      ]
     },
     "execution_count": 24,
     "metadata": {},
     "output_type": "execute_result"
    }
   ],
   "source": [
    "minority_upsampled = minority.sample(n=len(majority), replace=True, random_state=42)\n",
    "preprocessed_dataset_upsampled = pd.concat([minority_upsampled,majority])\n",
    "len(preprocessed_dataset_upsampled)"
   ]
  },
  {
   "cell_type": "code",
   "execution_count": 25,
   "id": "ce9b803a",
   "metadata": {
    "execution": {
     "iopub.execute_input": "2024-02-15T07:26:35.329487Z",
     "iopub.status.busy": "2024-02-15T07:26:35.329187Z",
     "iopub.status.idle": "2024-02-15T07:26:35.373747Z",
     "shell.execute_reply": "2024-02-15T07:26:35.372896Z"
    },
    "papermill": {
     "duration": 0.070069,
     "end_time": "2024-02-15T07:26:35.376084",
     "exception": false,
     "start_time": "2024-02-15T07:26:35.306015",
     "status": "completed"
    },
    "tags": []
   },
   "outputs": [],
   "source": [
    "up_features = preprocessed_dataset_upsampled.iloc[:,:-1].copy(deep=True)\n",
    "up_target = preprocessed_dataset_upsampled.iloc[:,-1].copy(deep=True)"
   ]
  },
  {
   "cell_type": "code",
   "execution_count": 26,
   "id": "e39e61f5",
   "metadata": {
    "execution": {
     "iopub.execute_input": "2024-02-15T07:26:35.420826Z",
     "iopub.status.busy": "2024-02-15T07:26:35.420484Z",
     "iopub.status.idle": "2024-02-15T07:26:35.457722Z",
     "shell.execute_reply": "2024-02-15T07:26:35.456760Z"
    },
    "papermill": {
     "duration": 0.062116,
     "end_time": "2024-02-15T07:26:35.460144",
     "exception": false,
     "start_time": "2024-02-15T07:26:35.398028",
     "status": "completed"
    },
    "tags": []
   },
   "outputs": [],
   "source": [
    "features_train, features_test, target_train, target_test = train_test_split(\n",
    "up_features, up_target, test_size=0.2, random_state=1)"
   ]
  },
  {
   "cell_type": "code",
   "execution_count": 27,
   "id": "8d169b8f",
   "metadata": {
    "execution": {
     "iopub.execute_input": "2024-02-15T07:26:35.505593Z",
     "iopub.status.busy": "2024-02-15T07:26:35.505312Z",
     "iopub.status.idle": "2024-02-15T07:26:35.509973Z",
     "shell.execute_reply": "2024-02-15T07:26:35.509137Z"
    },
    "papermill": {
     "duration": 0.029166,
     "end_time": "2024-02-15T07:26:35.511907",
     "exception": false,
     "start_time": "2024-02-15T07:26:35.482741",
     "status": "completed"
    },
    "tags": []
   },
   "outputs": [],
   "source": [
    "classifiers = [\n",
    "    LogisticRegression(),\n",
    "    DecisionTreeClassifier(),\n",
    "    RandomForestClassifier(),\n",
    "    XGBClassifier(),\n",
    "    KNeighborsClassifier()\n",
    "]"
   ]
  },
  {
   "cell_type": "code",
   "execution_count": null,
   "id": "8c1808fe",
   "metadata": {
    "papermill": {
     "duration": 0.021518,
     "end_time": "2024-02-15T07:26:35.555218",
     "exception": false,
     "start_time": "2024-02-15T07:26:35.533700",
     "status": "completed"
    },
    "tags": []
   },
   "outputs": [],
   "source": []
  },
  {
   "cell_type": "code",
   "execution_count": 28,
   "id": "403f1a83",
   "metadata": {
    "execution": {
     "iopub.execute_input": "2024-02-15T07:26:35.600594Z",
     "iopub.status.busy": "2024-02-15T07:26:35.600314Z",
     "iopub.status.idle": "2024-02-15T07:26:52.477102Z",
     "shell.execute_reply": "2024-02-15T07:26:52.476126Z"
    },
    "papermill": {
     "duration": 16.902258,
     "end_time": "2024-02-15T07:26:52.479570",
     "exception": false,
     "start_time": "2024-02-15T07:26:35.577312",
     "status": "completed"
    },
    "tags": []
   },
   "outputs": [
    {
     "name": "stderr",
     "output_type": "stream",
     "text": [
      "/opt/conda/lib/python3.10/site-packages/sklearn/linear_model/_logistic.py:458: ConvergenceWarning: lbfgs failed to converge (status=1):\n",
      "STOP: TOTAL NO. of ITERATIONS REACHED LIMIT.\n",
      "\n",
      "Increase the number of iterations (max_iter) or scale the data as shown in:\n",
      "    https://scikit-learn.org/stable/modules/preprocessing.html\n",
      "Please also refer to the documentation for alternative solver options:\n",
      "    https://scikit-learn.org/stable/modules/linear_model.html#logistic-regression\n",
      "  n_iter_i = _check_optimize_result(\n"
     ]
    },
    {
     "name": "stdout",
     "output_type": "stream",
     "text": [
      "for LogisticRegression accuracy is 0.8812568306010929\n",
      "for DecisionTreeClassifier accuracy is 0.9840710382513661\n",
      "for RandomForestClassifier accuracy is 0.9913114754098361\n",
      "for XGBClassifier accuracy is 0.9405737704918032\n",
      "for KNeighborsClassifier accuracy is 0.9572131147540983\n"
     ]
    }
   ],
   "source": [
    "for clf in classifiers:\n",
    "    clf.fit(features_train,target_train)\n",
    "    ypred = clf.predict(features_test)\n",
    "    accuracy = accuracy_score(target_test,ypred)\n",
    "    print(f'for {type(clf).__name__} accuracy is {accuracy}')"
   ]
  },
  {
   "cell_type": "code",
   "execution_count": 29,
   "id": "52d1800d",
   "metadata": {
    "execution": {
     "iopub.execute_input": "2024-02-15T07:26:52.526788Z",
     "iopub.status.busy": "2024-02-15T07:26:52.526483Z",
     "iopub.status.idle": "2024-02-15T07:27:45.814600Z",
     "shell.execute_reply": "2024-02-15T07:27:45.813812Z"
    },
    "papermill": {
     "duration": 53.313821,
     "end_time": "2024-02-15T07:27:45.816924",
     "exception": false,
     "start_time": "2024-02-15T07:26:52.503103",
     "status": "completed"
    },
    "tags": []
   },
   "outputs": [],
   "source": [
    "kf = KFold(n_splits=5,shuffle=True,random_state=51)\n",
    "cv_result = cross_val_score(RandomForestClassifier(),up_features,up_target,scoring='accuracy',cv=kf)"
   ]
  },
  {
   "cell_type": "code",
   "execution_count": 30,
   "id": "35e343ad",
   "metadata": {
    "execution": {
     "iopub.execute_input": "2024-02-15T07:27:45.863683Z",
     "iopub.status.busy": "2024-02-15T07:27:45.863033Z",
     "iopub.status.idle": "2024-02-15T07:27:45.868789Z",
     "shell.execute_reply": "2024-02-15T07:27:45.867909Z"
    },
    "papermill": {
     "duration": 0.030945,
     "end_time": "2024-02-15T07:27:45.870738",
     "exception": false,
     "start_time": "2024-02-15T07:27:45.839793",
     "status": "completed"
    },
    "tags": []
   },
   "outputs": [
    {
     "data": {
      "text/plain": [
       "0.991224043715847"
      ]
     },
     "execution_count": 30,
     "metadata": {},
     "output_type": "execute_result"
    }
   ],
   "source": [
    "cv_result.mean()"
   ]
  },
  {
   "cell_type": "code",
   "execution_count": 31,
   "id": "257c0be8",
   "metadata": {
    "execution": {
     "iopub.execute_input": "2024-02-15T07:27:45.915702Z",
     "iopub.status.busy": "2024-02-15T07:27:45.915418Z",
     "iopub.status.idle": "2024-02-15T07:27:45.919371Z",
     "shell.execute_reply": "2024-02-15T07:27:45.918572Z"
    },
    "papermill": {
     "duration": 0.028562,
     "end_time": "2024-02-15T07:27:45.921200",
     "exception": false,
     "start_time": "2024-02-15T07:27:45.892638",
     "status": "completed"
    },
    "tags": []
   },
   "outputs": [],
   "source": [
    "clf = RandomForestClassifier(n_estimators=100,n_jobs=-1)"
   ]
  },
  {
   "cell_type": "code",
   "execution_count": 32,
   "id": "eb847c84",
   "metadata": {
    "execution": {
     "iopub.execute_input": "2024-02-15T07:27:45.966539Z",
     "iopub.status.busy": "2024-02-15T07:27:45.966292Z",
     "iopub.status.idle": "2024-02-15T07:27:49.838564Z",
     "shell.execute_reply": "2024-02-15T07:27:49.837676Z"
    },
    "papermill": {
     "duration": 3.897292,
     "end_time": "2024-02-15T07:27:49.840764",
     "exception": false,
     "start_time": "2024-02-15T07:27:45.943472",
     "status": "completed"
    },
    "tags": []
   },
   "outputs": [
    {
     "data": {
      "text/html": [
       "<style>#sk-container-id-1 {color: black;background-color: white;}#sk-container-id-1 pre{padding: 0;}#sk-container-id-1 div.sk-toggleable {background-color: white;}#sk-container-id-1 label.sk-toggleable__label {cursor: pointer;display: block;width: 100%;margin-bottom: 0;padding: 0.3em;box-sizing: border-box;text-align: center;}#sk-container-id-1 label.sk-toggleable__label-arrow:before {content: \"▸\";float: left;margin-right: 0.25em;color: #696969;}#sk-container-id-1 label.sk-toggleable__label-arrow:hover:before {color: black;}#sk-container-id-1 div.sk-estimator:hover label.sk-toggleable__label-arrow:before {color: black;}#sk-container-id-1 div.sk-toggleable__content {max-height: 0;max-width: 0;overflow: hidden;text-align: left;background-color: #f0f8ff;}#sk-container-id-1 div.sk-toggleable__content pre {margin: 0.2em;color: black;border-radius: 0.25em;background-color: #f0f8ff;}#sk-container-id-1 input.sk-toggleable__control:checked~div.sk-toggleable__content {max-height: 200px;max-width: 100%;overflow: auto;}#sk-container-id-1 input.sk-toggleable__control:checked~label.sk-toggleable__label-arrow:before {content: \"▾\";}#sk-container-id-1 div.sk-estimator input.sk-toggleable__control:checked~label.sk-toggleable__label {background-color: #d4ebff;}#sk-container-id-1 div.sk-label input.sk-toggleable__control:checked~label.sk-toggleable__label {background-color: #d4ebff;}#sk-container-id-1 input.sk-hidden--visually {border: 0;clip: rect(1px 1px 1px 1px);clip: rect(1px, 1px, 1px, 1px);height: 1px;margin: -1px;overflow: hidden;padding: 0;position: absolute;width: 1px;}#sk-container-id-1 div.sk-estimator {font-family: monospace;background-color: #f0f8ff;border: 1px dotted black;border-radius: 0.25em;box-sizing: border-box;margin-bottom: 0.5em;}#sk-container-id-1 div.sk-estimator:hover {background-color: #d4ebff;}#sk-container-id-1 div.sk-parallel-item::after {content: \"\";width: 100%;border-bottom: 1px solid gray;flex-grow: 1;}#sk-container-id-1 div.sk-label:hover label.sk-toggleable__label {background-color: #d4ebff;}#sk-container-id-1 div.sk-serial::before {content: \"\";position: absolute;border-left: 1px solid gray;box-sizing: border-box;top: 0;bottom: 0;left: 50%;z-index: 0;}#sk-container-id-1 div.sk-serial {display: flex;flex-direction: column;align-items: center;background-color: white;padding-right: 0.2em;padding-left: 0.2em;position: relative;}#sk-container-id-1 div.sk-item {position: relative;z-index: 1;}#sk-container-id-1 div.sk-parallel {display: flex;align-items: stretch;justify-content: center;background-color: white;position: relative;}#sk-container-id-1 div.sk-item::before, #sk-container-id-1 div.sk-parallel-item::before {content: \"\";position: absolute;border-left: 1px solid gray;box-sizing: border-box;top: 0;bottom: 0;left: 50%;z-index: -1;}#sk-container-id-1 div.sk-parallel-item {display: flex;flex-direction: column;z-index: 1;position: relative;background-color: white;}#sk-container-id-1 div.sk-parallel-item:first-child::after {align-self: flex-end;width: 50%;}#sk-container-id-1 div.sk-parallel-item:last-child::after {align-self: flex-start;width: 50%;}#sk-container-id-1 div.sk-parallel-item:only-child::after {width: 0;}#sk-container-id-1 div.sk-dashed-wrapped {border: 1px dashed gray;margin: 0 0.4em 0.5em 0.4em;box-sizing: border-box;padding-bottom: 0.4em;background-color: white;}#sk-container-id-1 div.sk-label label {font-family: monospace;font-weight: bold;display: inline-block;line-height: 1.2em;}#sk-container-id-1 div.sk-label-container {text-align: center;}#sk-container-id-1 div.sk-container {/* jupyter's `normalize.less` sets `[hidden] { display: none; }` but bootstrap.min.css set `[hidden] { display: none !important; }` so we also need the `!important` here to be able to override the default hidden behavior on the sphinx rendered scikit-learn.org. See: https://github.com/scikit-learn/scikit-learn/issues/21755 */display: inline-block !important;position: relative;}#sk-container-id-1 div.sk-text-repr-fallback {display: none;}</style><div id=\"sk-container-id-1\" class=\"sk-top-container\"><div class=\"sk-text-repr-fallback\"><pre>RandomForestClassifier(n_jobs=-1)</pre><b>In a Jupyter environment, please rerun this cell to show the HTML representation or trust the notebook. <br />On GitHub, the HTML representation is unable to render, please try loading this page with nbviewer.org.</b></div><div class=\"sk-container\" hidden><div class=\"sk-item\"><div class=\"sk-estimator sk-toggleable\"><input class=\"sk-toggleable__control sk-hidden--visually\" id=\"sk-estimator-id-1\" type=\"checkbox\" checked><label for=\"sk-estimator-id-1\" class=\"sk-toggleable__label sk-toggleable__label-arrow\">RandomForestClassifier</label><div class=\"sk-toggleable__content\"><pre>RandomForestClassifier(n_jobs=-1)</pre></div></div></div></div></div>"
      ],
      "text/plain": [
       "RandomForestClassifier(n_jobs=-1)"
      ]
     },
     "execution_count": 32,
     "metadata": {},
     "output_type": "execute_result"
    }
   ],
   "source": [
    "clf.fit(features_train,target_train)"
   ]
  },
  {
   "cell_type": "code",
   "execution_count": 33,
   "id": "793bf5ac",
   "metadata": {
    "execution": {
     "iopub.execute_input": "2024-02-15T07:27:49.887495Z",
     "iopub.status.busy": "2024-02-15T07:27:49.887181Z",
     "iopub.status.idle": "2024-02-15T07:27:50.099500Z",
     "shell.execute_reply": "2024-02-15T07:27:50.098674Z"
    },
    "papermill": {
     "duration": 0.238193,
     "end_time": "2024-02-15T07:27:50.101778",
     "exception": false,
     "start_time": "2024-02-15T07:27:49.863585",
     "status": "completed"
    },
    "tags": []
   },
   "outputs": [],
   "source": [
    "prediction = pd.DataFrame(clf.predict(features_test),columns=['prediction'])\n",
    "features_test.reset_index(drop=True, inplace=True)\n",
    "target_test.reset_index(drop=True, inplace=True)\n",
    "prediction.reset_index(drop=True, inplace=True)\n",
    "result = pd.concat([features_test,target_test,prediction],axis=1)"
   ]
  },
  {
   "cell_type": "code",
   "execution_count": 34,
   "id": "7055390b",
   "metadata": {
    "execution": {
     "iopub.execute_input": "2024-02-15T07:27:50.148256Z",
     "iopub.status.busy": "2024-02-15T07:27:50.147969Z",
     "iopub.status.idle": "2024-02-15T07:27:50.166153Z",
     "shell.execute_reply": "2024-02-15T07:27:50.165373Z"
    },
    "papermill": {
     "duration": 0.043422,
     "end_time": "2024-02-15T07:27:50.168118",
     "exception": false,
     "start_time": "2024-02-15T07:27:50.124696",
     "status": "completed"
    },
    "tags": []
   },
   "outputs": [
    {
     "data": {
      "text/plain": [
       "array([[17866,   323],\n",
       "       [    5, 18406]])"
      ]
     },
     "execution_count": 34,
     "metadata": {},
     "output_type": "execute_result"
    }
   ],
   "source": [
    "matrix = confusion_matrix(target_test,prediction)\n",
    "class_names = target_test.unique()\n",
    "df = pd.DataFrame(matrix, index=class_names, columns=class_names)\n",
    "matrix"
   ]
  },
  {
   "cell_type": "code",
   "execution_count": 35,
   "id": "f72a6892",
   "metadata": {
    "execution": {
     "iopub.execute_input": "2024-02-15T07:27:50.214651Z",
     "iopub.status.busy": "2024-02-15T07:27:50.214149Z",
     "iopub.status.idle": "2024-02-15T07:27:50.338038Z",
     "shell.execute_reply": "2024-02-15T07:27:50.337075Z"
    },
    "papermill": {
     "duration": 0.150511,
     "end_time": "2024-02-15T07:27:50.341096",
     "exception": false,
     "start_time": "2024-02-15T07:27:50.190585",
     "status": "completed"
    },
    "tags": []
   },
   "outputs": [
    {
     "data": {
      "image/png": "[encoded data removed]",
      "text/plain": [
       "<Figure size 640x480 with 1 Axes>"
      ]
     },
     "metadata": {},
     "output_type": "display_data"
    }
   ],
   "source": [
    "sns.heatmap(matrix, annot=True, cbar=None, cmap=\"Blues\")\n",
    "plt.title(\"Confusion Matrix\"), plt.tight_layout()\n",
    "plt.ylabel(\"True Class\"), plt.xlabel(\"Predicted Class\")\n",
    "plt.show()\n"
   ]
  },
  {
   "cell_type": "code",
   "execution_count": 36,
   "id": "e25e7479",
   "metadata": {
    "execution": {
     "iopub.execute_input": "2024-02-15T07:27:50.395367Z",
     "iopub.status.busy": "2024-02-15T07:27:50.395059Z",
     "iopub.status.idle": "2024-02-15T07:27:50.421028Z",
     "shell.execute_reply": "2024-02-15T07:27:50.420124Z"
    },
    "papermill": {
     "duration": 0.051917,
     "end_time": "2024-02-15T07:27:50.422958",
     "exception": false,
     "start_time": "2024-02-15T07:27:50.371041",
     "status": "completed"
    },
    "tags": []
   },
   "outputs": [
    {
     "data": {
      "text/plain": [
       "0.9827540178333066"
      ]
     },
     "execution_count": 36,
     "metadata": {},
     "output_type": "execute_result"
    }
   ],
   "source": [
    "precision = precision_score(target_test,prediction)\n",
    "precision"
   ]
  },
  {
   "cell_type": "code",
   "execution_count": 37,
   "id": "d8914df5",
   "metadata": {
    "execution": {
     "iopub.execute_input": "2024-02-15T07:27:50.469896Z",
     "iopub.status.busy": "2024-02-15T07:27:50.469602Z",
     "iopub.status.idle": "2024-02-15T07:27:50.501031Z",
     "shell.execute_reply": "2024-02-15T07:27:50.499612Z"
    },
    "papermill": {
     "duration": 0.057815,
     "end_time": "2024-02-15T07:27:50.503616",
     "exception": false,
     "start_time": "2024-02-15T07:27:50.445801",
     "status": "completed"
    },
    "tags": []
   },
   "outputs": [
    {
     "data": {
      "text/plain": [
       "0.9997284232252458"
      ]
     },
     "execution_count": 37,
     "metadata": {},
     "output_type": "execute_result"
    }
   ],
   "source": [
    "recall = recall_score(target_test,prediction)\n",
    "recall"
   ]
  },
  {
   "cell_type": "code",
   "execution_count": 38,
   "id": "2d297797",
   "metadata": {
    "execution": {
     "iopub.execute_input": "2024-02-15T07:27:50.559589Z",
     "iopub.status.busy": "2024-02-15T07:27:50.559297Z",
     "iopub.status.idle": "2024-02-15T07:27:50.571323Z",
     "shell.execute_reply": "2024-02-15T07:27:50.570488Z"
    },
    "papermill": {
     "duration": 0.039317,
     "end_time": "2024-02-15T07:27:50.573221",
     "exception": false,
     "start_time": "2024-02-15T07:27:50.533904",
     "status": "completed"
    },
    "tags": []
   },
   "outputs": [
    {
     "data": {
      "text/plain": [
       "0.9910382513661202"
      ]
     },
     "execution_count": 38,
     "metadata": {},
     "output_type": "execute_result"
    }
   ],
   "source": [
    "accuracy = accuracy_score(target_test,prediction)\n",
    "accuracy"
   ]
  },
  {
   "cell_type": "code",
   "execution_count": 39,
   "id": "f386fdc0",
   "metadata": {
    "execution": {
     "iopub.execute_input": "2024-02-15T07:27:50.621517Z",
     "iopub.status.busy": "2024-02-15T07:27:50.621229Z",
     "iopub.status.idle": "2024-02-15T07:27:50.630839Z",
     "shell.execute_reply": "2024-02-15T07:27:50.630138Z"
    },
    "papermill": {
     "duration": 0.036344,
     "end_time": "2024-02-15T07:27:50.632687",
     "exception": false,
     "start_time": "2024-02-15T07:27:50.596343",
     "status": "completed"
    },
    "tags": []
   },
   "outputs": [],
   "source": [
    "fpr, tpr,_  = roc_curve(target_test,prediction)\n",
    "roc_auc = auc(fpr, tpr)"
   ]
  },
  {
   "cell_type": "code",
   "execution_count": 40,
   "id": "4e684808",
   "metadata": {
    "execution": {
     "iopub.execute_input": "2024-02-15T07:27:50.682357Z",
     "iopub.status.busy": "2024-02-15T07:27:50.682038Z",
     "iopub.status.idle": "2024-02-15T07:27:50.972415Z",
     "shell.execute_reply": "2024-02-15T07:27:50.971569Z"
    },
    "papermill": {
     "duration": 0.317901,
     "end_time": "2024-02-15T07:27:50.974693",
     "exception": false,
     "start_time": "2024-02-15T07:27:50.656792",
     "status": "completed"
    },
    "tags": []
   },
   "outputs": [
    {
     "data": {
      "image/png": "[encoded data removed]",
      "text/plain": [
       "<Figure size 640x480 with 1 Axes>"
      ]
     },
     "metadata": {},
     "output_type": "display_data"
    }
   ],
   "source": [
    "plt.figure()\n",
    "plt.plot(fpr, tpr, color='darkorange', lw=2, label='ROC curve (area = %0.2f)' % roc_auc)\n",
    "plt.plot([0, 1], [0, 1], color='navy', lw=2, linestyle='--', label = 'Classifier')\n",
    "plt.xlim([0.0, 1.0])\n",
    "plt.ylim([0.0, 1.05])\n",
    "plt.xlabel('False Positive Rate')\n",
    "plt.ylabel('True Positive Rate')\n",
    "plt.title('Receiver operating characteristic')\n",
    "plt.legend(loc=\"lower right\")\n",
    "plt.show()"
   ]
  },
  {
   "cell_type": "markdown",
   "id": "23d353fc",
   "metadata": {
    "papermill": {
     "duration": 0.025435,
     "end_time": "2024-02-15T07:27:51.025433",
     "exception": false,
     "start_time": "2024-02-15T07:27:50.999998",
     "status": "completed"
    },
    "tags": []
   },
   "source": [
    "# **remove redundant features from the model using rfecv and then train the model again and then see how much better it performs**"
   ]
  },
  {
   "cell_type": "code",
   "execution_count": 41,
   "id": "f9662968",
   "metadata": {
    "execution": {
     "iopub.execute_input": "2024-02-15T07:27:51.074464Z",
     "iopub.status.busy": "2024-02-15T07:27:51.074132Z",
     "iopub.status.idle": "2024-02-15T07:27:51.078479Z",
     "shell.execute_reply": "2024-02-15T07:27:51.077663Z"
    },
    "papermill": {
     "duration": 0.031318,
     "end_time": "2024-02-15T07:27:51.080410",
     "exception": false,
     "start_time": "2024-02-15T07:27:51.049092",
     "status": "completed"
    },
    "tags": []
   },
   "outputs": [],
   "source": [
    "rfecv = RFECV(RandomForestClassifier(),step=1,scoring='accuracy',n_jobs=-1)"
   ]
  },
  {
   "cell_type": "code",
   "execution_count": 42,
   "id": "3f0aef00",
   "metadata": {
    "execution": {
     "iopub.execute_input": "2024-02-15T07:27:51.129188Z",
     "iopub.status.busy": "2024-02-15T07:27:51.128914Z",
     "iopub.status.idle": "2024-02-15T07:35:07.146317Z",
     "shell.execute_reply": "2024-02-15T07:35:07.145302Z"
    },
    "papermill": {
     "duration": 436.068321,
     "end_time": "2024-02-15T07:35:07.172578",
     "exception": false,
     "start_time": "2024-02-15T07:27:51.104257",
     "status": "completed"
    },
    "tags": []
   },
   "outputs": [
    {
     "name": "stderr",
     "output_type": "stream",
     "text": [
      "/opt/conda/lib/python3.10/site-packages/scipy/__init__.py:146: UserWarning: A NumPy version >=1.16.5 and <1.23.0 is required for this version of SciPy (detected version 1.24.3\n",
      "  warnings.warn(f\"A NumPy version >={np_minversion} and <{np_maxversion}\"\n",
      "/opt/conda/lib/python3.10/site-packages/scipy/__init__.py:146: UserWarning: A NumPy version >=1.16.5 and <1.23.0 is required for this version of SciPy (detected version 1.24.3\n",
      "  warnings.warn(f\"A NumPy version >={np_minversion} and <{np_maxversion}\"\n",
      "/opt/conda/lib/python3.10/site-packages/scipy/__init__.py:146: UserWarning: A NumPy version >=1.16.5 and <1.23.0 is required for this version of SciPy (detected version 1.24.3\n",
      "  warnings.warn(f\"A NumPy version >={np_minversion} and <{np_maxversion}\"\n",
      "/opt/conda/lib/python3.10/site-packages/scipy/__init__.py:146: UserWarning: A NumPy version >=1.16.5 and <1.23.0 is required for this version of SciPy (detected version 1.24.3\n",
      "  warnings.warn(f\"A NumPy version >={np_minversion} and <{np_maxversion}\"\n"
     ]
    },
    {
     "data": {
      "text/html": [
       "<style>#sk-container-id-2 {color: black;background-color: white;}#sk-container-id-2 pre{padding: 0;}#sk-container-id-2 div.sk-toggleable {background-color: white;}#sk-container-id-2 label.sk-toggleable__label {cursor: pointer;display: block;width: 100%;margin-bottom: 0;padding: 0.3em;box-sizing: border-box;text-align: center;}#sk-container-id-2 label.sk-toggleable__label-arrow:before {content: \"▸\";float: left;margin-right: 0.25em;color: #696969;}#sk-container-id-2 label.sk-toggleable__label-arrow:hover:before {color: black;}#sk-container-id-2 div.sk-estimator:hover label.sk-toggleable__label-arrow:before {color: black;}#sk-container-id-2 div.sk-toggleable__content {max-height: 0;max-width: 0;overflow: hidden;text-align: left;background-color: #f0f8ff;}#sk-container-id-2 div.sk-toggleable__content pre {margin: 0.2em;color: black;border-radius: 0.25em;background-color: #f0f8ff;}#sk-container-id-2 input.sk-toggleable__control:checked~div.sk-toggleable__content {max-height: 200px;max-width: 100%;overflow: auto;}#sk-container-id-2 input.sk-toggleable__control:checked~label.sk-toggleable__label-arrow:before {content: \"▾\";}#sk-container-id-2 div.sk-estimator input.sk-toggleable__control:checked~label.sk-toggleable__label {background-color: #d4ebff;}#sk-container-id-2 div.sk-label input.sk-toggleable__control:checked~label.sk-toggleable__label {background-color: #d4ebff;}#sk-container-id-2 input.sk-hidden--visually {border: 0;clip: rect(1px 1px 1px 1px);clip: rect(1px, 1px, 1px, 1px);height: 1px;margin: -1px;overflow: hidden;padding: 0;position: absolute;width: 1px;}#sk-container-id-2 div.sk-estimator {font-family: monospace;background-color: #f0f8ff;border: 1px dotted black;border-radius: 0.25em;box-sizing: border-box;margin-bottom: 0.5em;}#sk-container-id-2 div.sk-estimator:hover {background-color: #d4ebff;}#sk-container-id-2 div.sk-parallel-item::after {content: \"\";width: 100%;border-bottom: 1px solid gray;flex-grow: 1;}#sk-container-id-2 div.sk-label:hover label.sk-toggleable__label {background-color: #d4ebff;}#sk-container-id-2 div.sk-serial::before {content: \"\";position: absolute;border-left: 1px solid gray;box-sizing: border-box;top: 0;bottom: 0;left: 50%;z-index: 0;}#sk-container-id-2 div.sk-serial {display: flex;flex-direction: column;align-items: center;background-color: white;padding-right: 0.2em;padding-left: 0.2em;position: relative;}#sk-container-id-2 div.sk-item {position: relative;z-index: 1;}#sk-container-id-2 div.sk-parallel {display: flex;align-items: stretch;justify-content: center;background-color: white;position: relative;}#sk-container-id-2 div.sk-item::before, #sk-container-id-2 div.sk-parallel-item::before {content: \"\";position: absolute;border-left: 1px solid gray;box-sizing: border-box;top: 0;bottom: 0;left: 50%;z-index: -1;}#sk-container-id-2 div.sk-parallel-item {display: flex;flex-direction: column;z-index: 1;position: relative;background-color: white;}#sk-container-id-2 div.sk-parallel-item:first-child::after {align-self: flex-end;width: 50%;}#sk-container-id-2 div.sk-parallel-item:last-child::after {align-self: flex-start;width: 50%;}#sk-container-id-2 div.sk-parallel-item:only-child::after {width: 0;}#sk-container-id-2 div.sk-dashed-wrapped {border: 1px dashed gray;margin: 0 0.4em 0.5em 0.4em;box-sizing: border-box;padding-bottom: 0.4em;background-color: white;}#sk-container-id-2 div.sk-label label {font-family: monospace;font-weight: bold;display: inline-block;line-height: 1.2em;}#sk-container-id-2 div.sk-label-container {text-align: center;}#sk-container-id-2 div.sk-container {/* jupyter's `normalize.less` sets `[hidden] { display: none; }` but bootstrap.min.css set `[hidden] { display: none !important; }` so we also need the `!important` here to be able to override the default hidden behavior on the sphinx rendered scikit-learn.org. See: https://github.com/scikit-learn/scikit-learn/issues/21755 */display: inline-block !important;position: relative;}#sk-container-id-2 div.sk-text-repr-fallback {display: none;}</style><div id=\"sk-container-id-2\" class=\"sk-top-container\"><div class=\"sk-text-repr-fallback\"><pre>RFECV(estimator=RandomForestClassifier(), n_jobs=-1, scoring=&#x27;accuracy&#x27;)</pre><b>In a Jupyter environment, please rerun this cell to show the HTML representation or trust the notebook. <br />On GitHub, the HTML representation is unable to render, please try loading this page with nbviewer.org.</b></div><div class=\"sk-container\" hidden><div class=\"sk-item sk-dashed-wrapped\"><div class=\"sk-label-container\"><div class=\"sk-label sk-toggleable\"><input class=\"sk-toggleable__control sk-hidden--visually\" id=\"sk-estimator-id-2\" type=\"checkbox\" ><label for=\"sk-estimator-id-2\" class=\"sk-toggleable__label sk-toggleable__label-arrow\">RFECV</label><div class=\"sk-toggleable__content\"><pre>RFECV(estimator=RandomForestClassifier(), n_jobs=-1, scoring=&#x27;accuracy&#x27;)</pre></div></div></div><div class=\"sk-parallel\"><div class=\"sk-parallel-item\"><div class=\"sk-item\"><div class=\"sk-label-container\"><div class=\"sk-label sk-toggleable\"><input class=\"sk-toggleable__control sk-hidden--visually\" id=\"sk-estimator-id-3\" type=\"checkbox\" ><label for=\"sk-estimator-id-3\" class=\"sk-toggleable__label sk-toggleable__label-arrow\">estimator: RandomForestClassifier</label><div class=\"sk-toggleable__content\"><pre>RandomForestClassifier()</pre></div></div></div><div class=\"sk-serial\"><div class=\"sk-item\"><div class=\"sk-estimator sk-toggleable\"><input class=\"sk-toggleable__control sk-hidden--visually\" id=\"sk-estimator-id-4\" type=\"checkbox\" ><label for=\"sk-estimator-id-4\" class=\"sk-toggleable__label sk-toggleable__label-arrow\">RandomForestClassifier</label><div class=\"sk-toggleable__content\"><pre>RandomForestClassifier()</pre></div></div></div></div></div></div></div></div></div></div>"
      ],
      "text/plain": [
       "RFECV(estimator=RandomForestClassifier(), n_jobs=-1, scoring='accuracy')"
      ]
     },
     "execution_count": 42,
     "metadata": {},
     "output_type": "execute_result"
    }
   ],
   "source": [
    "rfecv.fit(up_features,up_target)"
   ]
  },
  {
   "cell_type": "code",
   "execution_count": 43,
   "id": "7cc51077",
   "metadata": {
    "execution": {
     "iopub.execute_input": "2024-02-15T07:35:07.222200Z",
     "iopub.status.busy": "2024-02-15T07:35:07.221810Z",
     "iopub.status.idle": "2024-02-15T07:35:07.243516Z",
     "shell.execute_reply": "2024-02-15T07:35:07.242651Z"
    },
    "papermill": {
     "duration": 0.048706,
     "end_time": "2024-02-15T07:35:07.245484",
     "exception": false,
     "start_time": "2024-02-15T07:35:07.196778",
     "status": "completed"
    },
    "tags": []
   },
   "outputs": [
    {
     "data": {
      "text/plain": [
       "array([[54.,  0.,  0., ...,  0.,  0.,  0.],\n",
       "       [60.,  0.,  0., ...,  0.,  0.,  0.],\n",
       "       [60.,  0.,  0., ...,  0.,  0.,  1.],\n",
       "       ...,\n",
       "       [66.,  0.,  0., ...,  0.,  1.,  0.],\n",
       "       [24.,  0.,  0., ...,  0.,  0.,  1.],\n",
       "       [57.,  0.,  0., ...,  1.,  0.,  0.]])"
      ]
     },
     "execution_count": 43,
     "metadata": {},
     "output_type": "execute_result"
    }
   ],
   "source": [
    "rfecv.transform(up_features)"
   ]
  },
  {
   "cell_type": "code",
   "execution_count": 44,
   "id": "c834df8d",
   "metadata": {
    "execution": {
     "iopub.execute_input": "2024-02-15T07:35:07.295648Z",
     "iopub.status.busy": "2024-02-15T07:35:07.295322Z",
     "iopub.status.idle": "2024-02-15T07:35:07.300888Z",
     "shell.execute_reply": "2024-02-15T07:35:07.300032Z"
    },
    "papermill": {
     "duration": 0.032724,
     "end_time": "2024-02-15T07:35:07.302807",
     "exception": false,
     "start_time": "2024-02-15T07:35:07.270083",
     "status": "completed"
    },
    "tags": []
   },
   "outputs": [
    {
     "data": {
      "text/plain": [
       "11"
      ]
     },
     "execution_count": 44,
     "metadata": {},
     "output_type": "execute_result"
    }
   ],
   "source": [
    "rfecv.n_features_"
   ]
  },
  {
   "cell_type": "code",
   "execution_count": 45,
   "id": "f72785fd",
   "metadata": {
    "execution": {
     "iopub.execute_input": "2024-02-15T07:35:07.352346Z",
     "iopub.status.busy": "2024-02-15T07:35:07.352073Z",
     "iopub.status.idle": "2024-02-15T07:35:07.357326Z",
     "shell.execute_reply": "2024-02-15T07:35:07.356520Z"
    },
    "papermill": {
     "duration": 0.032517,
     "end_time": "2024-02-15T07:35:07.359280",
     "exception": false,
     "start_time": "2024-02-15T07:35:07.326763",
     "status": "completed"
    },
    "tags": []
   },
   "outputs": [
    {
     "data": {
      "text/plain": [
       "array([ True,  True,  True,  True,  True,  True, False,  True, False,\n",
       "        True,  True, False,  True,  True, False])"
      ]
     },
     "execution_count": 45,
     "metadata": {},
     "output_type": "execute_result"
    }
   ],
   "source": [
    "rfecv.support_"
   ]
  },
  {
   "cell_type": "code",
   "execution_count": 46,
   "id": "75ee06c2",
   "metadata": {
    "execution": {
     "iopub.execute_input": "2024-02-15T07:35:07.410660Z",
     "iopub.status.busy": "2024-02-15T07:35:07.410012Z",
     "iopub.status.idle": "2024-02-15T07:35:07.421653Z",
     "shell.execute_reply": "2024-02-15T07:35:07.420974Z"
    },
    "papermill": {
     "duration": 0.039902,
     "end_time": "2024-02-15T07:35:07.423465",
     "exception": false,
     "start_time": "2024-02-15T07:35:07.383563",
     "status": "completed"
    },
    "tags": []
   },
   "outputs": [],
   "source": [
    "new_features = up_features.drop(['gender_Female','gender_Other','smoking_history_not current','smoking_history_ever'],axis=1).copy(deep=True)"
   ]
  },
  {
   "cell_type": "code",
   "execution_count": 47,
   "id": "70be3009",
   "metadata": {
    "execution": {
     "iopub.execute_input": "2024-02-15T07:35:07.473007Z",
     "iopub.status.busy": "2024-02-15T07:35:07.472502Z",
     "iopub.status.idle": "2024-02-15T07:35:07.484649Z",
     "shell.execute_reply": "2024-02-15T07:35:07.483656Z"
    },
    "papermill": {
     "duration": 0.038956,
     "end_time": "2024-02-15T07:35:07.486498",
     "exception": false,
     "start_time": "2024-02-15T07:35:07.447542",
     "status": "completed"
    },
    "tags": []
   },
   "outputs": [
    {
     "name": "stdout",
     "output_type": "stream",
     "text": [
      "<class 'pandas.core.frame.DataFrame'>\n",
      "Index: 183000 entries, 85651 to 99999\n",
      "Data columns (total 11 columns):\n",
      " #   Column                   Non-Null Count   Dtype  \n",
      "---  ------                   --------------   -----  \n",
      " 0   age                      183000 non-null  float64\n",
      " 1   hypertension             183000 non-null  int64  \n",
      " 2   heart_disease            183000 non-null  int64  \n",
      " 3   bmi                      183000 non-null  float64\n",
      " 4   HbA1c_level              183000 non-null  float64\n",
      " 5   blood_glucose_level      183000 non-null  int64  \n",
      " 6   gender_Male              183000 non-null  int64  \n",
      " 7   smoking_history_No Info  183000 non-null  int64  \n",
      " 8   smoking_history_current  183000 non-null  int64  \n",
      " 9   smoking_history_former   183000 non-null  int64  \n",
      " 10  smoking_history_never    183000 non-null  int64  \n",
      "dtypes: float64(3), int64(8)\n",
      "memory usage: 16.8 MB\n"
     ]
    }
   ],
   "source": [
    "new_features.info()"
   ]
  },
  {
   "cell_type": "code",
   "execution_count": 48,
   "id": "f9543849",
   "metadata": {
    "execution": {
     "iopub.execute_input": "2024-02-15T07:35:07.536021Z",
     "iopub.status.busy": "2024-02-15T07:35:07.535768Z",
     "iopub.status.idle": "2024-02-15T07:35:07.561929Z",
     "shell.execute_reply": "2024-02-15T07:35:07.561192Z"
    },
    "papermill": {
     "duration": 0.053126,
     "end_time": "2024-02-15T07:35:07.563877",
     "exception": false,
     "start_time": "2024-02-15T07:35:07.510751",
     "status": "completed"
    },
    "tags": []
   },
   "outputs": [],
   "source": [
    "new_features_train, new_features_test, new_target_train, new_target_test = train_test_split(\n",
    "new_features, up_target, test_size=0.2, random_state=1)"
   ]
  },
  {
   "cell_type": "code",
   "execution_count": 49,
   "id": "b5cb2558",
   "metadata": {
    "execution": {
     "iopub.execute_input": "2024-02-15T07:35:07.615580Z",
     "iopub.status.busy": "2024-02-15T07:35:07.615306Z",
     "iopub.status.idle": "2024-02-15T07:35:23.700809Z",
     "shell.execute_reply": "2024-02-15T07:35:23.699491Z"
    },
    "papermill": {
     "duration": 16.114294,
     "end_time": "2024-02-15T07:35:23.702862",
     "exception": false,
     "start_time": "2024-02-15T07:35:07.588568",
     "status": "completed"
    },
    "tags": []
   },
   "outputs": [
    {
     "name": "stderr",
     "output_type": "stream",
     "text": [
      "/opt/conda/lib/python3.10/site-packages/sklearn/linear_model/_logistic.py:458: ConvergenceWarning: lbfgs failed to converge (status=1):\n",
      "STOP: TOTAL NO. of ITERATIONS REACHED LIMIT.\n",
      "\n",
      "Increase the number of iterations (max_iter) or scale the data as shown in:\n",
      "    https://scikit-learn.org/stable/modules/preprocessing.html\n",
      "Please also refer to the documentation for alternative solver options:\n",
      "    https://scikit-learn.org/stable/modules/linear_model.html#logistic-regression\n",
      "  n_iter_i = _check_optimize_result(\n"
     ]
    },
    {
     "name": "stdout",
     "output_type": "stream",
     "text": [
      "for LogisticRegression accuracy is 0.8733060109289618\n",
      "for DecisionTreeClassifier accuracy is 0.984535519125683\n",
      "for RandomForestClassifier accuracy is 0.9915027322404372\n",
      "for XGBClassifier accuracy is 0.9383606557377049\n",
      "for KNeighborsClassifier accuracy is 0.9566939890710382\n"
     ]
    }
   ],
   "source": [
    "for clf in classifiers:\n",
    "    clf.fit(new_features_train,new_target_train)\n",
    "    ypred = clf.predict(new_features_test)\n",
    "    accuracy = accuracy_score(new_target_test,ypred)\n",
    "    print(f'for {type(clf).__name__} accuracy is {accuracy}')"
   ]
  },
  {
   "cell_type": "code",
   "execution_count": 50,
   "id": "36750757",
   "metadata": {
    "execution": {
     "iopub.execute_input": "2024-02-15T07:35:23.755581Z",
     "iopub.status.busy": "2024-02-15T07:35:23.755260Z",
     "iopub.status.idle": "2024-02-15T07:36:19.452999Z",
     "shell.execute_reply": "2024-02-15T07:36:19.452177Z"
    },
    "papermill": {
     "duration": 55.72667,
     "end_time": "2024-02-15T07:36:19.455363",
     "exception": false,
     "start_time": "2024-02-15T07:35:23.728693",
     "status": "completed"
    },
    "tags": []
   },
   "outputs": [],
   "source": [
    "kf = KFold(n_splits=5,shuffle=True,random_state=51)\n",
    "cv_result = cross_val_score(RandomForestClassifier(),new_features,up_target,scoring='accuracy',cv=kf)"
   ]
  },
  {
   "cell_type": "code",
   "execution_count": 51,
   "id": "88184780",
   "metadata": {
    "execution": {
     "iopub.execute_input": "2024-02-15T07:36:19.516498Z",
     "iopub.status.busy": "2024-02-15T07:36:19.515967Z",
     "iopub.status.idle": "2024-02-15T07:36:19.524150Z",
     "shell.execute_reply": "2024-02-15T07:36:19.523068Z"
    },
    "papermill": {
     "duration": 0.044911,
     "end_time": "2024-02-15T07:36:19.526250",
     "exception": false,
     "start_time": "2024-02-15T07:36:19.481339",
     "status": "completed"
    },
    "tags": []
   },
   "outputs": [
    {
     "data": {
      "text/plain": [
       "0.9915081967213115"
      ]
     },
     "execution_count": 51,
     "metadata": {},
     "output_type": "execute_result"
    }
   ],
   "source": [
    "cv_result.mean()"
   ]
  },
  {
   "cell_type": "code",
   "execution_count": 52,
   "id": "fa46199d",
   "metadata": {
    "execution": {
     "iopub.execute_input": "2024-02-15T07:36:19.585205Z",
     "iopub.status.busy": "2024-02-15T07:36:19.584440Z",
     "iopub.status.idle": "2024-02-15T07:36:19.589414Z",
     "shell.execute_reply": "2024-02-15T07:36:19.588530Z"
    },
    "papermill": {
     "duration": 0.033204,
     "end_time": "2024-02-15T07:36:19.591296",
     "exception": false,
     "start_time": "2024-02-15T07:36:19.558092",
     "status": "completed"
    },
    "tags": []
   },
   "outputs": [],
   "source": [
    "clf = RandomForestClassifier(n_estimators=100,n_jobs=-1)"
   ]
  },
  {
   "cell_type": "code",
   "execution_count": 53,
   "id": "0ddc7426",
   "metadata": {
    "execution": {
     "iopub.execute_input": "2024-02-15T07:36:19.646101Z",
     "iopub.status.busy": "2024-02-15T07:36:19.645653Z",
     "iopub.status.idle": "2024-02-15T07:36:24.015416Z",
     "shell.execute_reply": "2024-02-15T07:36:24.014451Z"
    },
    "papermill": {
     "duration": 4.400931,
     "end_time": "2024-02-15T07:36:24.017608",
     "exception": false,
     "start_time": "2024-02-15T07:36:19.616677",
     "status": "completed"
    },
    "tags": []
   },
   "outputs": [
    {
     "data": {
      "text/html": [
       "<style>#sk-container-id-3 {color: black;background-color: white;}#sk-container-id-3 pre{padding: 0;}#sk-container-id-3 div.sk-toggleable {background-color: white;}#sk-container-id-3 label.sk-toggleable__label {cursor: pointer;display: block;width: 100%;margin-bottom: 0;padding: 0.3em;box-sizing: border-box;text-align: center;}#sk-container-id-3 label.sk-toggleable__label-arrow:before {content: \"▸\";float: left;margin-right: 0.25em;color: #696969;}#sk-container-id-3 label.sk-toggleable__label-arrow:hover:before {color: black;}#sk-container-id-3 div.sk-estimator:hover label.sk-toggleable__label-arrow:before {color: black;}#sk-container-id-3 div.sk-toggleable__content {max-height: 0;max-width: 0;overflow: hidden;text-align: left;background-color: #f0f8ff;}#sk-container-id-3 div.sk-toggleable__content pre {margin: 0.2em;color: black;border-radius: 0.25em;background-color: #f0f8ff;}#sk-container-id-3 input.sk-toggleable__control:checked~div.sk-toggleable__content {max-height: 200px;max-width: 100%;overflow: auto;}#sk-container-id-3 input.sk-toggleable__control:checked~label.sk-toggleable__label-arrow:before {content: \"▾\";}#sk-container-id-3 div.sk-estimator input.sk-toggleable__control:checked~label.sk-toggleable__label {background-color: #d4ebff;}#sk-container-id-3 div.sk-label input.sk-toggleable__control:checked~label.sk-toggleable__label {background-color: #d4ebff;}#sk-container-id-3 input.sk-hidden--visually {border: 0;clip: rect(1px 1px 1px 1px);clip: rect(1px, 1px, 1px, 1px);height: 1px;margin: -1px;overflow: hidden;padding: 0;position: absolute;width: 1px;}#sk-container-id-3 div.sk-estimator {font-family: monospace;background-color: #f0f8ff;border: 1px dotted black;border-radius: 0.25em;box-sizing: border-box;margin-bottom: 0.5em;}#sk-container-id-3 div.sk-estimator:hover {background-color: #d4ebff;}#sk-container-id-3 div.sk-parallel-item::after {content: \"\";width: 100%;border-bottom: 1px solid gray;flex-grow: 1;}#sk-container-id-3 div.sk-label:hover label.sk-toggleable__label {background-color: #d4ebff;}#sk-container-id-3 div.sk-serial::before {content: \"\";position: absolute;border-left: 1px solid gray;box-sizing: border-box;top: 0;bottom: 0;left: 50%;z-index: 0;}#sk-container-id-3 div.sk-serial {display: flex;flex-direction: column;align-items: center;background-color: white;padding-right: 0.2em;padding-left: 0.2em;position: relative;}#sk-container-id-3 div.sk-item {position: relative;z-index: 1;}#sk-container-id-3 div.sk-parallel {display: flex;align-items: stretch;justify-content: center;background-color: white;position: relative;}#sk-container-id-3 div.sk-item::before, #sk-container-id-3 div.sk-parallel-item::before {content: \"\";position: absolute;border-left: 1px solid gray;box-sizing: border-box;top: 0;bottom: 0;left: 50%;z-index: -1;}#sk-container-id-3 div.sk-parallel-item {display: flex;flex-direction: column;z-index: 1;position: relative;background-color: white;}#sk-container-id-3 div.sk-parallel-item:first-child::after {align-self: flex-end;width: 50%;}#sk-container-id-3 div.sk-parallel-item:last-child::after {align-self: flex-start;width: 50%;}#sk-container-id-3 div.sk-parallel-item:only-child::after {width: 0;}#sk-container-id-3 div.sk-dashed-wrapped {border: 1px dashed gray;margin: 0 0.4em 0.5em 0.4em;box-sizing: border-box;padding-bottom: 0.4em;background-color: white;}#sk-container-id-3 div.sk-label label {font-family: monospace;font-weight: bold;display: inline-block;line-height: 1.2em;}#sk-container-id-3 div.sk-label-container {text-align: center;}#sk-container-id-3 div.sk-container {/* jupyter's `normalize.less` sets `[hidden] { display: none; }` but bootstrap.min.css set `[hidden] { display: none !important; }` so we also need the `!important` here to be able to override the default hidden behavior on the sphinx rendered scikit-learn.org. See: https://github.com/scikit-learn/scikit-learn/issues/21755 */display: inline-block !important;position: relative;}#sk-container-id-3 div.sk-text-repr-fallback {display: none;}</style><div id=\"sk-container-id-3\" class=\"sk-top-container\"><div class=\"sk-text-repr-fallback\"><pre>RandomForestClassifier(n_jobs=-1)</pre><b>In a Jupyter environment, please rerun this cell to show the HTML representation or trust the notebook. <br />On GitHub, the HTML representation is unable to render, please try loading this page with nbviewer.org.</b></div><div class=\"sk-container\" hidden><div class=\"sk-item\"><div class=\"sk-estimator sk-toggleable\"><input class=\"sk-toggleable__control sk-hidden--visually\" id=\"sk-estimator-id-5\" type=\"checkbox\" checked><label for=\"sk-estimator-id-5\" class=\"sk-toggleable__label sk-toggleable__label-arrow\">RandomForestClassifier</label><div class=\"sk-toggleable__content\"><pre>RandomForestClassifier(n_jobs=-1)</pre></div></div></div></div></div>"
      ],
      "text/plain": [
       "RandomForestClassifier(n_jobs=-1)"
      ]
     },
     "execution_count": 53,
     "metadata": {},
     "output_type": "execute_result"
    }
   ],
   "source": [
    "clf.fit(new_features_train,new_target_train)"
   ]
  },
  {
   "cell_type": "code",
   "execution_count": 54,
   "id": "a5eecbff",
   "metadata": {
    "execution": {
     "iopub.execute_input": "2024-02-15T07:36:24.070000Z",
     "iopub.status.busy": "2024-02-15T07:36:24.069697Z",
     "iopub.status.idle": "2024-02-15T07:36:24.258062Z",
     "shell.execute_reply": "2024-02-15T07:36:24.257191Z"
    },
    "papermill": {
     "duration": 0.216902,
     "end_time": "2024-02-15T07:36:24.260115",
     "exception": false,
     "start_time": "2024-02-15T07:36:24.043213",
     "status": "completed"
    },
    "tags": []
   },
   "outputs": [
    {
     "data": {
      "text/plain": [
       "array([0, 1, 1, ..., 1, 0, 1])"
      ]
     },
     "execution_count": 54,
     "metadata": {},
     "output_type": "execute_result"
    }
   ],
   "source": [
    "clf.predict(new_features_test)"
   ]
  },
  {
   "cell_type": "code",
   "execution_count": 55,
   "id": "438bc672",
   "metadata": {
    "execution": {
     "iopub.execute_input": "2024-02-15T07:36:24.312926Z",
     "iopub.status.busy": "2024-02-15T07:36:24.312378Z",
     "iopub.status.idle": "2024-02-15T07:36:24.338613Z",
     "shell.execute_reply": "2024-02-15T07:36:24.337784Z"
    },
    "papermill": {
     "duration": 0.054809,
     "end_time": "2024-02-15T07:36:24.340691",
     "exception": false,
     "start_time": "2024-02-15T07:36:24.285882",
     "status": "completed"
    },
    "tags": []
   },
   "outputs": [
    {
     "data": {
      "text/plain": [
       "0.9827540178333066"
      ]
     },
     "execution_count": 55,
     "metadata": {},
     "output_type": "execute_result"
    }
   ],
   "source": [
    "precision = precision_score(new_target_test,prediction)\n",
    "precision"
   ]
  },
  {
   "cell_type": "code",
   "execution_count": 56,
   "id": "914bbea3",
   "metadata": {
    "execution": {
     "iopub.execute_input": "2024-02-15T07:36:24.392465Z",
     "iopub.status.busy": "2024-02-15T07:36:24.392175Z",
     "iopub.status.idle": "2024-02-15T07:36:24.403968Z",
     "shell.execute_reply": "2024-02-15T07:36:24.403204Z"
    },
    "papermill": {
     "duration": 0.039656,
     "end_time": "2024-02-15T07:36:24.405756",
     "exception": false,
     "start_time": "2024-02-15T07:36:24.366100",
     "status": "completed"
    },
    "tags": []
   },
   "outputs": [
    {
     "data": {
      "text/plain": [
       "0.9910382513661202"
      ]
     },
     "execution_count": 56,
     "metadata": {},
     "output_type": "execute_result"
    }
   ],
   "source": [
    "accuracy = accuracy_score(new_target_test,prediction)\n",
    "accuracy"
   ]
  },
  {
   "cell_type": "code",
   "execution_count": 57,
   "id": "f754118b",
   "metadata": {
    "execution": {
     "iopub.execute_input": "2024-02-15T07:36:24.457465Z",
     "iopub.status.busy": "2024-02-15T07:36:24.457202Z",
     "iopub.status.idle": "2024-02-15T07:36:24.480370Z",
     "shell.execute_reply": "2024-02-15T07:36:24.479588Z"
    },
    "papermill": {
     "duration": 0.051128,
     "end_time": "2024-02-15T07:36:24.482246",
     "exception": false,
     "start_time": "2024-02-15T07:36:24.431118",
     "status": "completed"
    },
    "tags": []
   },
   "outputs": [
    {
     "data": {
      "text/plain": [
       "0.9997284232252458"
      ]
     },
     "execution_count": 57,
     "metadata": {},
     "output_type": "execute_result"
    }
   ],
   "source": [
    "recall = recall_score(new_target_test,prediction)\n",
    "recall"
   ]
  },
  {
   "cell_type": "markdown",
   "id": "b7ee4fc3",
   "metadata": {
    "papermill": {
     "duration": 0.026592,
     "end_time": "2024-02-15T07:36:24.535116",
     "exception": false,
     "start_time": "2024-02-15T07:36:24.508524",
     "status": "completed"
    },
    "tags": []
   },
   "source": [
    "**Here we can see that the evaluation metrics are still the same after removing some of the redundant features so it helped us to save our resources and one of the shocking discovery is that our algo told us that gender_female is not really relevant for the model and somehow model did a little better after removing all those features. It may seem a little in this case but what if we had millions of rows with same number of columns then it would have been a significant difference.**"
   ]
  },
  {
   "cell_type": "code",
   "execution_count": null,
   "id": "d68a07fc",
   "metadata": {
    "papermill": {
     "duration": 0.025367,
     "end_time": "2024-02-15T07:36:24.585944",
     "exception": false,
     "start_time": "2024-02-15T07:36:24.560577",
     "status": "completed"
    },
    "tags": []
   },
   "outputs": [],
   "source": []
  }
 ],
 "metadata": {
  "kaggle": {
   "accelerator": "none",
   "dataSources": [
    {
     "datasetId": 3102947,
     "sourceId": 5344155,
     "sourceType": "datasetVersion"
    }
   ],
   "dockerImageVersionId": 30635,
   "isGpuEnabled": false,
   "isInternetEnabled": false,
   "language": "python",
   "sourceType": "notebook"
  },
  "kernelspec": {
   "display_name": "Python 3",
   "language": "python",
   "name": "python3"
  },
  "language_info": {
   "codemirror_mode": {
    "name": "ipython",
    "version": 3
   },
   "file_extension": ".py",
   "mimetype": "text/x-python",
   "name": "python",
   "nbconvert_exporter": "python",
   "pygments_lexer": "ipython3",
   "version": "3.10.12"
  },
  "papermill": {
   "default_parameters": {},
   "duration": 613.821898,
   "end_time": "2024-02-15T07:36:27.230508",
   "environment_variables": {},
   "exception": null,
   "input_path": "__notebook__.ipynb",
   "output_path": "__notebook__.ipynb",
   "parameters": {},
   "start_time": "2024-02-15T07:26:13.408610",
   "version": "2.4.0"
  }
 },
 "nbformat": 4,
 "nbformat_minor": 5
}
