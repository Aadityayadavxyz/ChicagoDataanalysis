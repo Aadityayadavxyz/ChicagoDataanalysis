{
 "cells": [
  {
   "cell_type": "markdown",
   "id": "1250c5e8",
   "metadata": {},
   "source": [
    "# Chicago Traffic Crashes"
   ]
  },
  {
   "cell_type": "code",
   "execution_count": null,
   "id": "e56716f0",
   "metadata": {},
   "outputs": [],
   "source": [
    "import pandas as pd\n",
    "import matplotlib.pyplot as plt\n",
    "import seaborn as sns"
   ]
  },
  {
   "cell_type": "code",
   "execution_count": null,
   "id": "c49a66ba",
   "metadata": {},
   "outputs": [],
   "source": [
    "df_crashes = pd.read_csv('crashes.csv')\n",
    "df_vehicles = pd.read_csv('crashes_vehicles.csv').drop('CRASH_DATE',axis=1)"
   ]
  },
  {
   "cell_type": "code",
   "execution_count": null,
   "id": "eaae7e98",
   "metadata": {},
   "outputs": [],
   "source": [
    "#merge both tables after figuring out the common column and drop dupliacte columns before merging to reduce redundancy\n",
    "df = pd.merge(df_crashes,df_vehicles,on='CRASH_RECORD_ID')"
   ]
  },
  {
   "cell_type": "code",
   "execution_count": null,
   "id": "0acbb507",
   "metadata": {},
   "outputs": [],
   "source": [
    "#Get acquainted with the data\n",
    "df.describe(include='object')"
   ]
  },
  {
   "cell_type": "code",
   "execution_count": null,
   "id": "cfcf4502",
   "metadata": {},
   "outputs": [],
   "source": [
    "#convert columns datatypes to improve efficiency\n",
    "df['CRASH_DATE'] = pd.to_datetime(df['CRASH_DATE'])\n",
    "df['WEATHER_CONDITION'] = df['WEATHER_CONDITION'].astype('category')\n",
    "df['LIGHTING_CONDITION'] = df['LIGHTING_CONDITION'].astype('category')\n",
    "df['PRIM_CONTRIBUTORY_CAUSE'] = df['PRIM_CONTRIBUTORY_CAUSE'].astype('category')\n",
    "df['FIRST_CRASH_TYPE'] = df['FIRST_CRASH_TYPE'].astype('category')\n",
    "df['HIT_AND_RUN_I'] = df['HIT_AND_RUN_I'].astype('category')\n",
    "df['LIC_PLATE_STATE'] = df['LIC_PLATE_STATE'].astype('category')\n",
    "df['VEHICLE_TYPE'] = df['VEHICLE_TYPE'].astype('category')\n",
    "df['MAKE'] = df['MAKE'].astype('category')"
   ]
  },
  {
   "cell_type": "code",
   "execution_count": null,
   "id": "5ca2d0d1",
   "metadata": {},
   "outputs": [],
   "source": [
    "# Total number of reported crashes\n",
    "print('Total number reported cases are {} as per the dataset'.format(df['CRASH_RECORD_ID'].nunique()))"
   ]
  },
  {
   "cell_type": "code",
   "execution_count": null,
   "id": "6afa41f3",
   "metadata": {},
   "outputs": [],
   "source": [
    "#Drop observations that did not occur in 2018, 2019 or 2020 (other years have incomplete data)\n",
    "df = df[(df['CRASH_DATE']>='2018-01-01')&(df['CRASH_DATE']<='2020-12-31')]"
   ]
  },
  {
   "cell_type": "code",
   "execution_count": null,
   "id": "9c27d877",
   "metadata": {},
   "outputs": [],
   "source": [
    "df.info()"
   ]
  },
  {
   "cell_type": "code",
   "execution_count": null,
   "id": "e9373aa7",
   "metadata": {},
   "outputs": [],
   "source": [
    "#Display a plot showing the number of crashes that occur for each hour of the day.\n",
    "sns.set_theme(style='darkgrid')\n",
    "df['HOUR'] = df['CRASH_DATE'].dt.hour\n",
    "plt.figure(figsize=(10,5))\n",
    "a = df.groupby('HOUR')['CRASH_RECORD_ID'].nunique().reset_index()\n",
    "sns.barplot(data=a,y='CRASH_RECORD_ID',x='HOUR',)\n",
    "plt.xlabel('Hour of the day')\n",
    "plt.ylabel('No of accidents')\n",
    "plt.title('Hourly Number of Reported Crashes in Chicago (2018-2020)')"
   ]
  },
  {
   "cell_type": "code",
   "execution_count": null,
   "id": "cd95c2d5",
   "metadata": {},
   "outputs": [],
   "source": [
    "#Name the make of vehicle that was involved in the most daylight crashes in August 2018. Remember that a crash can involve multiple vehicles.\n",
    "df_daylight = df[df['LIGHTING_CONDITION'] == 'DAYLIGHT']\n",
    "df_daylight.groupby('MAKE')['CRASH_RECORD_ID'].count().sort_values().tail(1)\n",
    "#ALTERNATE SOLUTION \n",
    "df_daylight['MAKE'].value_counts().nlargest(1)"
   ]
  },
  {
   "cell_type": "code",
   "execution_count": null,
   "id": "3d80051c",
   "metadata": {},
   "outputs": [],
   "source": [
    "#Determine which weather condition was most prevalent for each type of crash.\n",
    "df_crashes.groupby('FIRST_CRASH_TYPE')['WEATHER_CONDITION'].apply(lambda x: x.value_counts().head(1)).reset_index(name='count').rename(columns ={'level_1':'WEATHER'})       "
   ]
  },
  {
   "cell_type": "code",
   "execution_count": null,
   "id": "6557776d",
   "metadata": {},
   "outputs": [],
   "source": [
    "#Plot the primary contributing cause of reported crashes, from highest to lowest.\n",
    "plt.figure(figsize=(20,20))\n",
    "sns.set(font_scale=2)\n",
    "sns.countplot(y='PRIM_CONTRIBUTORY_CAUSE',order = df['PRIM_CONTRIBUTORY_CAUSE'].value_counts().index,data=df)\n"
   ]
  },
  {
   "cell_type": "code",
   "execution_count": null,
   "id": "4c9387b6",
   "metadata": {},
   "outputs": [],
   "source": [
    "#Display the 10 state license plates involved in the most crashes. Remember that a crash can involve multiple vehicles.\n",
    "df.groupby('LIC_PLATE_STATE')['VEHICLE_ID'].count().nlargest(10).reset_index(name='COUNT')"
   ]
  },
  {
   "cell_type": "code",
   "execution_count": null,
   "id": "9a6f96d2",
   "metadata": {},
   "outputs": [],
   "source": [
    "#Display the proportion of crashes in each month of 2019 where alcohol was determined to be the primary contributing cause.\n",
    "#total number of accidents month wise in 2019\n",
    "df_2019 = df[(df['CRASH_DATE']>='2019-01-01')&(df['CRASH_DATE']<='2019-12-31')]\n",
    "a = df_2019.groupby(df_2019['CRASH_DATE'].dt.month)['CRASH_RECORD_ID'].nunique().reset_index(name='COUNT')\n",
    "# number of accidents caused by alcohol in 2019\n",
    "df_alcohol = df_2019[df_2019['PRIM_CONTRIBUTORY_CAUSE'].str.contains('ALCOHOL|DRINKING')]\n",
    "b = df_alcohol.groupby(df_alcohol['CRASH_DATE'].dt.month)['CRASH_RECORD_ID'].nunique().reset_index(name='COUNT')\n",
    "# percentage calculation\n",
    "percent = ((b['COUNT']/a['COUNT'])*100.)\n",
    "c = percent.to_frame().rename(columns={'COUNT':'PERCENT'})\n",
    "c.set_index(b.CRASH_DATE)\n"
   ]
  },
  {
   "cell_type": "code",
   "execution_count": null,
   "id": "068ec6c4",
   "metadata": {},
   "outputs": [],
   "source": [
    "#Determine whether snowmobiles or recreational off-highway vehicles were involved in more crashes.\n",
    "a = len(df[df['VEHICLE_TYPE']=='SNOWMOBILE'])\n",
    "b = len(df[df['VEHICLE_TYPE']=='RECREATIONAL OFF-HIGHWAY VEHICLE (ROV)'])\n",
    "if a>b:\n",
    "    print('Snowmobiles were involved in more accidents')\n",
    "else:\n",
    "    print('Recreational off-highway vehicles were involved in more accidents')"
   ]
  }
 ],
 "metadata": {
  "kernelspec": {
   "display_name": "Python 3 (ipykernel)",
   "language": "python",
   "name": "python3"
  },
  "language_info": {
   "codemirror_mode": {
    "name": "ipython",
    "version": 3
   },
   "file_extension": ".py",
   "mimetype": "text/x-python",
   "name": "python",
   "nbconvert_exporter": "python",
   "pygments_lexer": "ipython3",
   "version": "3.10.9"
  }
 },
 "nbformat": 4,
 "nbformat_minor": 5
}
